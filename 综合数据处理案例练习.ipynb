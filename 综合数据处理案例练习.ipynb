{
 "cells": [
  {
   "cell_type": "markdown",
   "metadata": {},
   "source": [
    "## 导入相关库"
   ]
  },
  {
   "cell_type": "code",
   "execution_count": 1,
   "metadata": {},
   "outputs": [],
   "source": [
    "import numpy as np\n",
    "import pandas as pd\n",
    "import matplotlib.pyplot as plt"
   ]
  },
  {
   "cell_type": "markdown",
   "metadata": {},
   "source": [
    "## 导入csv数据Building_Permits.csv,保存为数据框data1"
   ]
  },
  {
   "cell_type": "code",
   "execution_count": 2,
   "metadata": {},
   "outputs": [
    {
     "name": "stderr",
     "output_type": "stream",
     "text": [
      "C:\\ProgramData\\Anaconda3\\lib\\site-packages\\IPython\\core\\interactiveshell.py:3049: DtypeWarning: Columns (22,32) have mixed types. Specify dtype option on import or set low_memory=False.\n",
      "  interactivity=interactivity, compiler=compiler, result=result)\n"
     ]
    }
   ],
   "source": [
    "data1=pd.read_csv('Building_Permits.csv')"
   ]
  },
  {
   "cell_type": "markdown",
   "metadata": {},
   "source": [
    "## 查看数据框的前几行"
   ]
  },
  {
   "cell_type": "code",
   "execution_count": 3,
   "metadata": {},
   "outputs": [
    {
     "data": {
      "text/html": [
       "<div>\n",
       "<style scoped>\n",
       "    .dataframe tbody tr th:only-of-type {\n",
       "        vertical-align: middle;\n",
       "    }\n",
       "\n",
       "    .dataframe tbody tr th {\n",
       "        vertical-align: top;\n",
       "    }\n",
       "\n",
       "    .dataframe thead th {\n",
       "        text-align: right;\n",
       "    }\n",
       "</style>\n",
       "<table border=\"1\" class=\"dataframe\">\n",
       "  <thead>\n",
       "    <tr style=\"text-align: right;\">\n",
       "      <th></th>\n",
       "      <th>Permit Number</th>\n",
       "      <th>Permit Type</th>\n",
       "      <th>Permit Type Definition</th>\n",
       "      <th>Permit Creation Date</th>\n",
       "      <th>Block</th>\n",
       "      <th>Lot</th>\n",
       "      <th>Street Number</th>\n",
       "      <th>Street Number Suffix</th>\n",
       "      <th>Street Name</th>\n",
       "      <th>Street Suffix</th>\n",
       "      <th>...</th>\n",
       "      <th>Existing Construction Type</th>\n",
       "      <th>Existing Construction Type Description</th>\n",
       "      <th>Proposed Construction Type</th>\n",
       "      <th>Proposed Construction Type Description</th>\n",
       "      <th>Site Permit</th>\n",
       "      <th>Supervisor District</th>\n",
       "      <th>Neighborhoods - Analysis Boundaries</th>\n",
       "      <th>Zipcode</th>\n",
       "      <th>Location</th>\n",
       "      <th>Record ID</th>\n",
       "    </tr>\n",
       "  </thead>\n",
       "  <tbody>\n",
       "    <tr>\n",
       "      <th>0</th>\n",
       "      <td>201505065519</td>\n",
       "      <td>4</td>\n",
       "      <td>sign - erect</td>\n",
       "      <td>05/06/2015</td>\n",
       "      <td>0326</td>\n",
       "      <td>023</td>\n",
       "      <td>140</td>\n",
       "      <td>NaN</td>\n",
       "      <td>Ellis</td>\n",
       "      <td>St</td>\n",
       "      <td>...</td>\n",
       "      <td>3.0</td>\n",
       "      <td>constr type 3</td>\n",
       "      <td>NaN</td>\n",
       "      <td>NaN</td>\n",
       "      <td>NaN</td>\n",
       "      <td>3.0</td>\n",
       "      <td>Tenderloin</td>\n",
       "      <td>94102.0</td>\n",
       "      <td>(37.785719256680785, -122.40852313194863)</td>\n",
       "      <td>1380611233945</td>\n",
       "    </tr>\n",
       "    <tr>\n",
       "      <th>1</th>\n",
       "      <td>201604195146</td>\n",
       "      <td>4</td>\n",
       "      <td>sign - erect</td>\n",
       "      <td>04/19/2016</td>\n",
       "      <td>0306</td>\n",
       "      <td>007</td>\n",
       "      <td>440</td>\n",
       "      <td>NaN</td>\n",
       "      <td>Geary</td>\n",
       "      <td>St</td>\n",
       "      <td>...</td>\n",
       "      <td>3.0</td>\n",
       "      <td>constr type 3</td>\n",
       "      <td>NaN</td>\n",
       "      <td>NaN</td>\n",
       "      <td>NaN</td>\n",
       "      <td>3.0</td>\n",
       "      <td>Tenderloin</td>\n",
       "      <td>94102.0</td>\n",
       "      <td>(37.78733980600732, -122.41063199757738)</td>\n",
       "      <td>1420164406718</td>\n",
       "    </tr>\n",
       "    <tr>\n",
       "      <th>2</th>\n",
       "      <td>201605278609</td>\n",
       "      <td>3</td>\n",
       "      <td>additions alterations or repairs</td>\n",
       "      <td>05/27/2016</td>\n",
       "      <td>0595</td>\n",
       "      <td>203</td>\n",
       "      <td>1647</td>\n",
       "      <td>NaN</td>\n",
       "      <td>Pacific</td>\n",
       "      <td>Av</td>\n",
       "      <td>...</td>\n",
       "      <td>1.0</td>\n",
       "      <td>constr type 1</td>\n",
       "      <td>1.0</td>\n",
       "      <td>constr type 1</td>\n",
       "      <td>NaN</td>\n",
       "      <td>3.0</td>\n",
       "      <td>Russian Hill</td>\n",
       "      <td>94109.0</td>\n",
       "      <td>(37.7946573324287, -122.42232562979227)</td>\n",
       "      <td>1424856504716</td>\n",
       "    </tr>\n",
       "    <tr>\n",
       "      <th>3</th>\n",
       "      <td>201611072166</td>\n",
       "      <td>8</td>\n",
       "      <td>otc alterations permit</td>\n",
       "      <td>11/07/2016</td>\n",
       "      <td>0156</td>\n",
       "      <td>011</td>\n",
       "      <td>1230</td>\n",
       "      <td>NaN</td>\n",
       "      <td>Pacific</td>\n",
       "      <td>Av</td>\n",
       "      <td>...</td>\n",
       "      <td>5.0</td>\n",
       "      <td>wood frame (5)</td>\n",
       "      <td>5.0</td>\n",
       "      <td>wood frame (5)</td>\n",
       "      <td>NaN</td>\n",
       "      <td>3.0</td>\n",
       "      <td>Nob Hill</td>\n",
       "      <td>94109.0</td>\n",
       "      <td>(37.79595867909168, -122.41557405519474)</td>\n",
       "      <td>1443574295566</td>\n",
       "    </tr>\n",
       "    <tr>\n",
       "      <th>4</th>\n",
       "      <td>201611283529</td>\n",
       "      <td>6</td>\n",
       "      <td>demolitions</td>\n",
       "      <td>11/28/2016</td>\n",
       "      <td>0342</td>\n",
       "      <td>001</td>\n",
       "      <td>950</td>\n",
       "      <td>NaN</td>\n",
       "      <td>Market</td>\n",
       "      <td>St</td>\n",
       "      <td>...</td>\n",
       "      <td>3.0</td>\n",
       "      <td>constr type 3</td>\n",
       "      <td>NaN</td>\n",
       "      <td>NaN</td>\n",
       "      <td>NaN</td>\n",
       "      <td>6.0</td>\n",
       "      <td>Tenderloin</td>\n",
       "      <td>94102.0</td>\n",
       "      <td>(37.78315261897309, -122.40950883997789)</td>\n",
       "      <td>144548169992</td>\n",
       "    </tr>\n",
       "    <tr>\n",
       "      <th>5</th>\n",
       "      <td>201706149344</td>\n",
       "      <td>8</td>\n",
       "      <td>otc alterations permit</td>\n",
       "      <td>06/14/2017</td>\n",
       "      <td>4105</td>\n",
       "      <td>009</td>\n",
       "      <td>800</td>\n",
       "      <td>NaN</td>\n",
       "      <td>Indiana</td>\n",
       "      <td>St</td>\n",
       "      <td>...</td>\n",
       "      <td>1.0</td>\n",
       "      <td>constr type 1</td>\n",
       "      <td>1.0</td>\n",
       "      <td>constr type 1</td>\n",
       "      <td>NaN</td>\n",
       "      <td>10.0</td>\n",
       "      <td>Potrero Hill</td>\n",
       "      <td>94107.0</td>\n",
       "      <td>(37.75922331346539, -122.39170402628598)</td>\n",
       "      <td>1466911170855</td>\n",
       "    </tr>\n",
       "    <tr>\n",
       "      <th>6</th>\n",
       "      <td>201706300814</td>\n",
       "      <td>8</td>\n",
       "      <td>otc alterations permit</td>\n",
       "      <td>06/30/2017</td>\n",
       "      <td>1739</td>\n",
       "      <td>020</td>\n",
       "      <td>1291</td>\n",
       "      <td>NaN</td>\n",
       "      <td>11th</td>\n",
       "      <td>Av</td>\n",
       "      <td>...</td>\n",
       "      <td>5.0</td>\n",
       "      <td>wood frame (5)</td>\n",
       "      <td>5.0</td>\n",
       "      <td>wood frame (5)</td>\n",
       "      <td>NaN</td>\n",
       "      <td>5.0</td>\n",
       "      <td>Inner Sunset</td>\n",
       "      <td>94122.0</td>\n",
       "      <td>(37.764145640138565, -122.46875112470363)</td>\n",
       "      <td>1468970403692</td>\n",
       "    </tr>\n",
       "    <tr>\n",
       "      <th>7</th>\n",
       "      <td>M803667</td>\n",
       "      <td>8</td>\n",
       "      <td>otc alterations permit</td>\n",
       "      <td>06/30/2017</td>\n",
       "      <td>4789</td>\n",
       "      <td>014</td>\n",
       "      <td>1465</td>\n",
       "      <td>NaN</td>\n",
       "      <td>Revere</td>\n",
       "      <td>Av</td>\n",
       "      <td>...</td>\n",
       "      <td>NaN</td>\n",
       "      <td>NaN</td>\n",
       "      <td>NaN</td>\n",
       "      <td>NaN</td>\n",
       "      <td>NaN</td>\n",
       "      <td>10.0</td>\n",
       "      <td>Bayview Hunters Point</td>\n",
       "      <td>94124.0</td>\n",
       "      <td>(37.73005099023611, -122.38784938916618)</td>\n",
       "      <td>1469035175050</td>\n",
       "    </tr>\n",
       "    <tr>\n",
       "      <th>8</th>\n",
       "      <td>M804227</td>\n",
       "      <td>8</td>\n",
       "      <td>otc alterations permit</td>\n",
       "      <td>07/05/2017</td>\n",
       "      <td>1212</td>\n",
       "      <td>054</td>\n",
       "      <td>2094</td>\n",
       "      <td>NaN</td>\n",
       "      <td>Fell</td>\n",
       "      <td>St</td>\n",
       "      <td>...</td>\n",
       "      <td>NaN</td>\n",
       "      <td>NaN</td>\n",
       "      <td>NaN</td>\n",
       "      <td>NaN</td>\n",
       "      <td>NaN</td>\n",
       "      <td>5.0</td>\n",
       "      <td>Lone Mountain/USF</td>\n",
       "      <td>94117.0</td>\n",
       "      <td>(37.772393498502595, -122.45231466824669)</td>\n",
       "      <td>1469198253772</td>\n",
       "    </tr>\n",
       "    <tr>\n",
       "      <th>9</th>\n",
       "      <td>M804767</td>\n",
       "      <td>8</td>\n",
       "      <td>otc alterations permit</td>\n",
       "      <td>07/06/2017</td>\n",
       "      <td>1259</td>\n",
       "      <td>016</td>\n",
       "      <td>89</td>\n",
       "      <td>NaN</td>\n",
       "      <td>Alpine</td>\n",
       "      <td>Tr</td>\n",
       "      <td>...</td>\n",
       "      <td>NaN</td>\n",
       "      <td>NaN</td>\n",
       "      <td>NaN</td>\n",
       "      <td>NaN</td>\n",
       "      <td>NaN</td>\n",
       "      <td>8.0</td>\n",
       "      <td>Haight Ashbury</td>\n",
       "      <td>94117.0</td>\n",
       "      <td>(37.7691724293766, -122.43734859051908)</td>\n",
       "      <td>146932394171</td>\n",
       "    </tr>\n",
       "  </tbody>\n",
       "</table>\n",
       "<p>10 rows × 43 columns</p>\n",
       "</div>"
      ],
      "text/plain": [
       "  Permit Number  Permit Type            Permit Type Definition  \\\n",
       "0  201505065519            4                      sign - erect   \n",
       "1  201604195146            4                      sign - erect   \n",
       "2  201605278609            3  additions alterations or repairs   \n",
       "3  201611072166            8            otc alterations permit   \n",
       "4  201611283529            6                       demolitions   \n",
       "5  201706149344            8            otc alterations permit   \n",
       "6  201706300814            8            otc alterations permit   \n",
       "7       M803667            8            otc alterations permit   \n",
       "8       M804227            8            otc alterations permit   \n",
       "9       M804767            8            otc alterations permit   \n",
       "\n",
       "  Permit Creation Date Block  Lot  Street Number Street Number Suffix  \\\n",
       "0           05/06/2015  0326  023            140                  NaN   \n",
       "1           04/19/2016  0306  007            440                  NaN   \n",
       "2           05/27/2016  0595  203           1647                  NaN   \n",
       "3           11/07/2016  0156  011           1230                  NaN   \n",
       "4           11/28/2016  0342  001            950                  NaN   \n",
       "5           06/14/2017  4105  009            800                  NaN   \n",
       "6           06/30/2017  1739  020           1291                  NaN   \n",
       "7           06/30/2017  4789  014           1465                  NaN   \n",
       "8           07/05/2017  1212  054           2094                  NaN   \n",
       "9           07/06/2017  1259  016             89                  NaN   \n",
       "\n",
       "  Street Name Street Suffix  ...  Existing Construction Type  \\\n",
       "0       Ellis            St  ...                         3.0   \n",
       "1       Geary            St  ...                         3.0   \n",
       "2     Pacific            Av  ...                         1.0   \n",
       "3     Pacific            Av  ...                         5.0   \n",
       "4      Market            St  ...                         3.0   \n",
       "5     Indiana            St  ...                         1.0   \n",
       "6        11th            Av  ...                         5.0   \n",
       "7      Revere            Av  ...                         NaN   \n",
       "8        Fell            St  ...                         NaN   \n",
       "9      Alpine            Tr  ...                         NaN   \n",
       "\n",
       "  Existing Construction Type Description Proposed Construction Type  \\\n",
       "0                          constr type 3                        NaN   \n",
       "1                          constr type 3                        NaN   \n",
       "2                          constr type 1                        1.0   \n",
       "3                         wood frame (5)                        5.0   \n",
       "4                          constr type 3                        NaN   \n",
       "5                          constr type 1                        1.0   \n",
       "6                         wood frame (5)                        5.0   \n",
       "7                                    NaN                        NaN   \n",
       "8                                    NaN                        NaN   \n",
       "9                                    NaN                        NaN   \n",
       "\n",
       "  Proposed Construction Type Description Site Permit Supervisor District  \\\n",
       "0                                    NaN         NaN                 3.0   \n",
       "1                                    NaN         NaN                 3.0   \n",
       "2                          constr type 1         NaN                 3.0   \n",
       "3                         wood frame (5)         NaN                 3.0   \n",
       "4                                    NaN         NaN                 6.0   \n",
       "5                          constr type 1         NaN                10.0   \n",
       "6                         wood frame (5)         NaN                 5.0   \n",
       "7                                    NaN         NaN                10.0   \n",
       "8                                    NaN         NaN                 5.0   \n",
       "9                                    NaN         NaN                 8.0   \n",
       "\n",
       "  Neighborhoods - Analysis Boundaries  Zipcode  \\\n",
       "0                          Tenderloin  94102.0   \n",
       "1                          Tenderloin  94102.0   \n",
       "2                        Russian Hill  94109.0   \n",
       "3                            Nob Hill  94109.0   \n",
       "4                          Tenderloin  94102.0   \n",
       "5                        Potrero Hill  94107.0   \n",
       "6                        Inner Sunset  94122.0   \n",
       "7               Bayview Hunters Point  94124.0   \n",
       "8                   Lone Mountain/USF  94117.0   \n",
       "9                      Haight Ashbury  94117.0   \n",
       "\n",
       "                                    Location      Record ID  \n",
       "0  (37.785719256680785, -122.40852313194863)  1380611233945  \n",
       "1   (37.78733980600732, -122.41063199757738)  1420164406718  \n",
       "2    (37.7946573324287, -122.42232562979227)  1424856504716  \n",
       "3   (37.79595867909168, -122.41557405519474)  1443574295566  \n",
       "4   (37.78315261897309, -122.40950883997789)   144548169992  \n",
       "5   (37.75922331346539, -122.39170402628598)  1466911170855  \n",
       "6  (37.764145640138565, -122.46875112470363)  1468970403692  \n",
       "7   (37.73005099023611, -122.38784938916618)  1469035175050  \n",
       "8  (37.772393498502595, -122.45231466824669)  1469198253772  \n",
       "9    (37.7691724293766, -122.43734859051908)   146932394171  \n",
       "\n",
       "[10 rows x 43 columns]"
      ]
     },
     "execution_count": 3,
     "metadata": {},
     "output_type": "execute_result"
    }
   ],
   "source": [
    "data1.head(10)"
   ]
  },
  {
   "cell_type": "markdown",
   "metadata": {},
   "source": [
    "## 数据的基本信息查看，包括多少列多少行"
   ]
  },
  {
   "cell_type": "code",
   "execution_count": 4,
   "metadata": {},
   "outputs": [
    {
     "data": {
      "text/plain": [
       "(198900, 43)"
      ]
     },
     "execution_count": 4,
     "metadata": {},
     "output_type": "execute_result"
    }
   ],
   "source": [
    "data1.shape"
   ]
  },
  {
   "cell_type": "markdown",
   "metadata": {},
   "source": [
    "## 数据的缺失值情况统计（统计每一类数据缺失值比例）"
   ]
  },
  {
   "cell_type": "code",
   "execution_count": 5,
   "metadata": {},
   "outputs": [
    {
     "data": {
      "text/plain": [
       "Permit Number                             0.000000\n",
       "Permit Type                               0.000000\n",
       "Permit Type Definition                    0.000000\n",
       "Permit Creation Date                      0.000000\n",
       "Block                                     0.000000\n",
       "Lot                                       0.000000\n",
       "Street Number                             0.000000\n",
       "Street Number Suffix                      0.988859\n",
       "Street Name                               0.000000\n",
       "Street Suffix                             0.013917\n",
       "Unit                                      0.851790\n",
       "Unit Suffix                               0.990141\n",
       "Description                               0.001458\n",
       "Current Status                            0.000000\n",
       "Current Status Date                       0.000000\n",
       "Filed Date                                0.000000\n",
       "Issued Date                               0.075113\n",
       "Completed Date                            0.511357\n",
       "First Construction Document Date          0.075143\n",
       "Structural Notification                   0.965199\n",
       "Number of Existing Stories                0.215103\n",
       "Number of Proposed Stories                0.215525\n",
       "Voluntary Soft-Story Retrofit             0.999824\n",
       "Fire Only Permit                          0.905344\n",
       "Permit Expiration Date                    0.260835\n",
       "Estimated Cost                            0.191383\n",
       "Revised Cost                              0.030498\n",
       "Existing Use                              0.206707\n",
       "Existing Units                            0.259115\n",
       "Proposed Use                              0.213369\n",
       "Proposed Units                            0.255963\n",
       "Plansets                                  0.187577\n",
       "TIDF Compliance                           0.999990\n",
       "Existing Construction Type                0.218029\n",
       "Existing Construction Type Description    0.218029\n",
       "Proposed Construction Type                0.217004\n",
       "Proposed Construction Type Description    0.217004\n",
       "Site Permit                               0.973057\n",
       "Supervisor District                       0.008632\n",
       "Neighborhoods - Analysis Boundaries       0.008673\n",
       "Zipcode                                   0.008627\n",
       "Location                                  0.008547\n",
       "Record ID                                 0.000000\n",
       "dtype: float64"
      ]
     },
     "execution_count": 5,
     "metadata": {},
     "output_type": "execute_result"
    }
   ],
   "source": [
    "data1.isnull().mean()"
   ]
  },
  {
   "cell_type": "markdown",
   "metadata": {},
   "source": [
    "## 根据变量Permit Number对数据框进行排序，并且直接作用于数据框，并且查看数据的前几行"
   ]
  },
  {
   "cell_type": "code",
   "execution_count": 6,
   "metadata": {},
   "outputs": [
    {
     "data": {
      "text/html": [
       "<div>\n",
       "<style scoped>\n",
       "    .dataframe tbody tr th:only-of-type {\n",
       "        vertical-align: middle;\n",
       "    }\n",
       "\n",
       "    .dataframe tbody tr th {\n",
       "        vertical-align: top;\n",
       "    }\n",
       "\n",
       "    .dataframe thead th {\n",
       "        text-align: right;\n",
       "    }\n",
       "</style>\n",
       "<table border=\"1\" class=\"dataframe\">\n",
       "  <thead>\n",
       "    <tr style=\"text-align: right;\">\n",
       "      <th></th>\n",
       "      <th>Permit Number</th>\n",
       "      <th>Permit Type</th>\n",
       "      <th>Permit Type Definition</th>\n",
       "      <th>Permit Creation Date</th>\n",
       "      <th>Block</th>\n",
       "      <th>Lot</th>\n",
       "      <th>Street Number</th>\n",
       "      <th>Street Number Suffix</th>\n",
       "      <th>Street Name</th>\n",
       "      <th>Street Suffix</th>\n",
       "      <th>...</th>\n",
       "      <th>Existing Construction Type</th>\n",
       "      <th>Existing Construction Type Description</th>\n",
       "      <th>Proposed Construction Type</th>\n",
       "      <th>Proposed Construction Type Description</th>\n",
       "      <th>Site Permit</th>\n",
       "      <th>Supervisor District</th>\n",
       "      <th>Neighborhoods - Analysis Boundaries</th>\n",
       "      <th>Zipcode</th>\n",
       "      <th>Location</th>\n",
       "      <th>Record ID</th>\n",
       "    </tr>\n",
       "  </thead>\n",
       "  <tbody>\n",
       "    <tr>\n",
       "      <th>484</th>\n",
       "      <td>201301027037</td>\n",
       "      <td>8</td>\n",
       "      <td>otc alterations permit</td>\n",
       "      <td>01/02/2013</td>\n",
       "      <td>0697</td>\n",
       "      <td>039</td>\n",
       "      <td>1400</td>\n",
       "      <td>NaN</td>\n",
       "      <td>Geary</td>\n",
       "      <td>Bl</td>\n",
       "      <td>...</td>\n",
       "      <td>1.0</td>\n",
       "      <td>constr type 1</td>\n",
       "      <td>1.0</td>\n",
       "      <td>constr type 1</td>\n",
       "      <td>NaN</td>\n",
       "      <td>5.0</td>\n",
       "      <td>Japantown</td>\n",
       "      <td>94109.0</td>\n",
       "      <td>(37.785542417311106, -122.42713399675488)</td>\n",
       "      <td>129210879901</td>\n",
       "    </tr>\n",
       "    <tr>\n",
       "      <th>486</th>\n",
       "      <td>201301027038</td>\n",
       "      <td>8</td>\n",
       "      <td>otc alterations permit</td>\n",
       "      <td>01/02/2013</td>\n",
       "      <td>1102</td>\n",
       "      <td>017</td>\n",
       "      <td>1247</td>\n",
       "      <td>NaN</td>\n",
       "      <td>Broderick</td>\n",
       "      <td>St</td>\n",
       "      <td>...</td>\n",
       "      <td>5.0</td>\n",
       "      <td>wood frame (5)</td>\n",
       "      <td>5.0</td>\n",
       "      <td>wood frame (5)</td>\n",
       "      <td>NaN</td>\n",
       "      <td>2.0</td>\n",
       "      <td>Western Addition</td>\n",
       "      <td>94115.0</td>\n",
       "      <td>(37.78188510892238, -122.4411253188458)</td>\n",
       "      <td>1292110425763</td>\n",
       "    </tr>\n",
       "    <tr>\n",
       "      <th>489</th>\n",
       "      <td>201301027039</td>\n",
       "      <td>8</td>\n",
       "      <td>otc alterations permit</td>\n",
       "      <td>01/02/2013</td>\n",
       "      <td>1751</td>\n",
       "      <td>010</td>\n",
       "      <td>1289</td>\n",
       "      <td>NaN</td>\n",
       "      <td>02nd</td>\n",
       "      <td>Av</td>\n",
       "      <td>...</td>\n",
       "      <td>5.0</td>\n",
       "      <td>wood frame (5)</td>\n",
       "      <td>5.0</td>\n",
       "      <td>wood frame (5)</td>\n",
       "      <td>NaN</td>\n",
       "      <td>5.0</td>\n",
       "      <td>Inner Sunset</td>\n",
       "      <td>94122.0</td>\n",
       "      <td>(37.76451538602564, -122.4591117589727)</td>\n",
       "      <td>1292113396893</td>\n",
       "    </tr>\n",
       "    <tr>\n",
       "      <th>490</th>\n",
       "      <td>201301027040</td>\n",
       "      <td>8</td>\n",
       "      <td>otc alterations permit</td>\n",
       "      <td>01/02/2013</td>\n",
       "      <td>0318</td>\n",
       "      <td>014</td>\n",
       "      <td>500</td>\n",
       "      <td>NaN</td>\n",
       "      <td>Leavenworth</td>\n",
       "      <td>St</td>\n",
       "      <td>...</td>\n",
       "      <td>3.0</td>\n",
       "      <td>constr type 3</td>\n",
       "      <td>3.0</td>\n",
       "      <td>constr type 3</td>\n",
       "      <td>NaN</td>\n",
       "      <td>6.0</td>\n",
       "      <td>Tenderloin</td>\n",
       "      <td>94102.0</td>\n",
       "      <td>(37.785819520399485, -122.41442879309835)</td>\n",
       "      <td>129211469420</td>\n",
       "    </tr>\n",
       "    <tr>\n",
       "      <th>491</th>\n",
       "      <td>201301027041</td>\n",
       "      <td>8</td>\n",
       "      <td>otc alterations permit</td>\n",
       "      <td>01/02/2013</td>\n",
       "      <td>0251</td>\n",
       "      <td>012</td>\n",
       "      <td>1262</td>\n",
       "      <td>NaN</td>\n",
       "      <td>Pine</td>\n",
       "      <td>St</td>\n",
       "      <td>...</td>\n",
       "      <td>5.0</td>\n",
       "      <td>wood frame (5)</td>\n",
       "      <td>5.0</td>\n",
       "      <td>wood frame (5)</td>\n",
       "      <td>NaN</td>\n",
       "      <td>3.0</td>\n",
       "      <td>Nob Hill</td>\n",
       "      <td>94109.0</td>\n",
       "      <td>(37.79039549824972, -122.41662615110641)</td>\n",
       "      <td>1292115272018</td>\n",
       "    </tr>\n",
       "  </tbody>\n",
       "</table>\n",
       "<p>5 rows × 43 columns</p>\n",
       "</div>"
      ],
      "text/plain": [
       "    Permit Number  Permit Type  Permit Type Definition Permit Creation Date  \\\n",
       "484  201301027037            8  otc alterations permit           01/02/2013   \n",
       "486  201301027038            8  otc alterations permit           01/02/2013   \n",
       "489  201301027039            8  otc alterations permit           01/02/2013   \n",
       "490  201301027040            8  otc alterations permit           01/02/2013   \n",
       "491  201301027041            8  otc alterations permit           01/02/2013   \n",
       "\n",
       "    Block  Lot  Street Number Street Number Suffix  Street Name Street Suffix  \\\n",
       "484  0697  039           1400                  NaN        Geary            Bl   \n",
       "486  1102  017           1247                  NaN    Broderick            St   \n",
       "489  1751  010           1289                  NaN         02nd            Av   \n",
       "490  0318  014            500                  NaN  Leavenworth            St   \n",
       "491  0251  012           1262                  NaN         Pine            St   \n",
       "\n",
       "     ...  Existing Construction Type Existing Construction Type Description  \\\n",
       "484  ...                         1.0                          constr type 1   \n",
       "486  ...                         5.0                         wood frame (5)   \n",
       "489  ...                         5.0                         wood frame (5)   \n",
       "490  ...                         3.0                          constr type 3   \n",
       "491  ...                         5.0                         wood frame (5)   \n",
       "\n",
       "    Proposed Construction Type Proposed Construction Type Description  \\\n",
       "484                        1.0                          constr type 1   \n",
       "486                        5.0                         wood frame (5)   \n",
       "489                        5.0                         wood frame (5)   \n",
       "490                        3.0                          constr type 3   \n",
       "491                        5.0                         wood frame (5)   \n",
       "\n",
       "    Site Permit Supervisor District Neighborhoods - Analysis Boundaries  \\\n",
       "484         NaN                 5.0                           Japantown   \n",
       "486         NaN                 2.0                    Western Addition   \n",
       "489         NaN                 5.0                        Inner Sunset   \n",
       "490         NaN                 6.0                          Tenderloin   \n",
       "491         NaN                 3.0                            Nob Hill   \n",
       "\n",
       "     Zipcode                                   Location      Record ID  \n",
       "484  94109.0  (37.785542417311106, -122.42713399675488)   129210879901  \n",
       "486  94115.0    (37.78188510892238, -122.4411253188458)  1292110425763  \n",
       "489  94122.0    (37.76451538602564, -122.4591117589727)  1292113396893  \n",
       "490  94102.0  (37.785819520399485, -122.41442879309835)   129211469420  \n",
       "491  94109.0   (37.79039549824972, -122.41662615110641)  1292115272018  \n",
       "\n",
       "[5 rows x 43 columns]"
      ]
     },
     "execution_count": 6,
     "metadata": {},
     "output_type": "execute_result"
    }
   ],
   "source": [
    "data1.sort_values(by=\"Permit Number\",inplace=True)\n",
    "data1.head()"
   ]
  },
  {
   "cell_type": "markdown",
   "metadata": {},
   "source": [
    "## 找出出现次数最多的Permit Number"
   ]
  },
  {
   "cell_type": "code",
   "execution_count": 7,
   "metadata": {},
   "outputs": [
    {
     "data": {
      "text/plain": [
       "201602179765    101\n",
       "201602179758     66\n",
       "201602179775     30\n",
       "201409166451      9\n",
       "201702239990      9\n",
       "201708165004      9\n",
       "201702099112      8\n",
       "201604285989      8\n",
       "201707061162      8\n",
       "201602179774      8\n",
       "201604074211      8\n",
       "M598547           7\n",
       "201705267761      7\n",
       "M586808           7\n",
       "201708144771      7\n",
       "201506128838      7\n",
       "201709158539      7\n",
       "201706220077      7\n",
       "201604124594      7\n",
       "201708286162      7\n",
       "201605208035      7\n",
       "201711284975      7\n",
       "201705267778      6\n",
       "201708245836      6\n",
       "201711214643      6\n",
       "201708225504      6\n",
       "201706280574      6\n",
       "201605137443      6\n",
       "201707283170      6\n",
       "201709209126      6\n",
       "               ... \n",
       "M718487           1\n",
       "201606109641      1\n",
       "M554187           1\n",
       "201312265062      1\n",
       "M724567           1\n",
       "M630347           1\n",
       "201601136941      1\n",
       "M628407           1\n",
       "201407010216      1\n",
       "201410249902      1\n",
       "201501216201      1\n",
       "201505045295      1\n",
       "201502138403      1\n",
       "201609147721      1\n",
       "201509258099      1\n",
       "201605177676      1\n",
       "201712297606      1\n",
       "201708023654      1\n",
       "201304265583      1\n",
       "201507070751      1\n",
       "201608165066      1\n",
       "M364788           1\n",
       "201304174808      1\n",
       "201605258228      1\n",
       "201408053070      1\n",
       "201402259267      1\n",
       "201702240029      1\n",
       "201607212967      1\n",
       "201303081824      1\n",
       "201510301228      1\n",
       "Name: Permit Number, Length: 181495, dtype: int64"
      ]
     },
     "execution_count": 7,
     "metadata": {},
     "output_type": "execute_result"
    }
   ],
   "source": [
    "data1[\"Permit Number\"].value_counts()"
   ]
  },
  {
   "cell_type": "markdown",
   "metadata": {},
   "source": [
    "## 查看变量Current Status有多少个唯一值，每个值出现了多少次"
   ]
  },
  {
   "cell_type": "code",
   "execution_count": 8,
   "metadata": {},
   "outputs": [
    {
     "data": {
      "text/plain": [
       "complete       97077\n",
       "issued         83559\n",
       "filed          12043\n",
       "withdrawn       1754\n",
       "cancelled       1536\n",
       "expired         1370\n",
       "approved         733\n",
       "reinstated       563\n",
       "suspend          193\n",
       "revoked           50\n",
       "plancheck         16\n",
       "disapproved        2\n",
       "appeal             2\n",
       "incomplete         2\n",
       "Name: Current Status, dtype: int64"
      ]
     },
     "execution_count": 8,
     "metadata": {},
     "output_type": "execute_result"
    }
   ],
   "source": [
    "data1[\"Current Status\"].value_counts()"
   ]
  },
  {
   "cell_type": "markdown",
   "metadata": {},
   "source": [
    "## 把Current Status变量取值为complete的行找出来存为数据框data2"
   ]
  },
  {
   "cell_type": "code",
   "execution_count": 9,
   "metadata": {},
   "outputs": [],
   "source": [
    "data2=data1[data1[\"Current Status\"]==\"complete\"]"
   ]
  },
  {
   "cell_type": "markdown",
   "metadata": {},
   "source": [
    "## 统计数据框data2中Permit Number变量的每个值出现了多少次"
   ]
  },
  {
   "cell_type": "code",
   "execution_count": 10,
   "metadata": {},
   "outputs": [],
   "source": [
    "#data2[\"Permit Number\"].value_counts()"
   ]
  },
  {
   "cell_type": "markdown",
   "metadata": {},
   "source": [
    "## 计算数据框data2各列的缺失值比率，将结果存为missrate，并且求一下缺失比例大于0.5的列的个数"
   ]
  },
  {
   "cell_type": "code",
   "execution_count": 11,
   "metadata": {},
   "outputs": [
    {
     "data": {
      "text/plain": [
       "8"
      ]
     },
     "execution_count": 11,
     "metadata": {},
     "output_type": "execute_result"
    }
   ],
   "source": [
    "missrate=data2.isnull().mean()\n",
    "len(missrate[missrate>0.5])"
   ]
  },
  {
   "cell_type": "markdown",
   "metadata": {},
   "source": [
    "## 获取日期变量生成名字列表"
   ]
  },
  {
   "cell_type": "markdown",
   "metadata": {},
   "source": [
    "生成的日期变量列表的名字为strdate。\n",
    "提示：如果变量的名字中包含Date字样，则这个变量是日期变量。\n",
    "这里直接导入的日期变量可能是字符串变量。后面需要处理。"
   ]
  },
  {
   "cell_type": "code",
   "execution_count": 12,
   "metadata": {},
   "outputs": [
    {
     "data": {
      "text/plain": [
       "['Permit Creation Date',\n",
       " 'Current Status Date',\n",
       " 'Filed Date',\n",
       " 'Issued Date',\n",
       " 'Completed Date',\n",
       " 'First Construction Document Date',\n",
       " 'Permit Expiration Date']"
      ]
     },
     "execution_count": 12,
     "metadata": {},
     "output_type": "execute_result"
    }
   ],
   "source": [
    "strdate=[]\n",
    "for i in data2.columns:\n",
    "    if i.find(\"Date\")!=-1:\n",
    "        strdate.append(i)\n",
    "strdate    "
   ]
  },
  {
   "cell_type": "markdown",
   "metadata": {},
   "source": [
    "## 生成一个新的日期变量列表（datedate），以便于存储更改格式后的正确日期，新的日期变量名字，在原来的名字基础上加上后缀1。"
   ]
  },
  {
   "cell_type": "code",
   "execution_count": 13,
   "metadata": {},
   "outputs": [
    {
     "data": {
      "text/plain": [
       "['Permit Creation Date1',\n",
       " 'Current Status Date1',\n",
       " 'Filed Date1',\n",
       " 'Issued Date1',\n",
       " 'Completed Date1',\n",
       " 'First Construction Document Date1',\n",
       " 'Permit Expiration Date1']"
      ]
     },
     "execution_count": 13,
     "metadata": {},
     "output_type": "execute_result"
    }
   ],
   "source": [
    "datedate=list(map(lambda x:x+\"1\",strdate))\n",
    "datedate"
   ]
  },
  {
   "cell_type": "markdown",
   "metadata": {},
   "source": [
    "## 用循环将日期转化为正确的格式，并存为指定的变量名字。"
   ]
  },
  {
   "cell_type": "code",
   "execution_count": 14,
   "metadata": {},
   "outputs": [],
   "source": [
    "#举个例子将根据原来的Permit Creation Date变量生成Permit Creation Date1变量\n",
    "#Permit Creation Date1为日期时间类型"
   ]
  },
  {
   "cell_type": "code",
   "execution_count": 15,
   "metadata": {},
   "outputs": [
    {
     "name": "stderr",
     "output_type": "stream",
     "text": [
      "C:\\ProgramData\\Anaconda3\\lib\\site-packages\\ipykernel_launcher.py:2: SettingWithCopyWarning: \n",
      "A value is trying to be set on a copy of a slice from a DataFrame.\n",
      "Try using .loc[row_indexer,col_indexer] = value instead\n",
      "\n",
      "See the caveats in the documentation: http://pandas.pydata.org/pandas-docs/stable/indexing.html#indexing-view-versus-copy\n",
      "  \n"
     ]
    }
   ],
   "source": [
    "for i,j in zip(datedate,strdate):\n",
    "    data2[i]=pd.to_datetime(data2[j],errors=\"coerce\")"
   ]
  },
  {
   "cell_type": "markdown",
   "metadata": {},
   "source": [
    "## 计算所有日期格式变量每一行有多少个缺失值"
   ]
  },
  {
   "cell_type": "code",
   "execution_count": 16,
   "metadata": {},
   "outputs": [],
   "source": [
    "#比如有6个时间变量，这六个时间变量在第一行一共有多少个缺失值。"
   ]
  },
  {
   "cell_type": "code",
   "execution_count": 18,
   "metadata": {
    "collapsed": true
   },
   "outputs": [
    {
     "data": {
      "text/plain": [
       "484       0\n",
       "486       0\n",
       "489       0\n",
       "490       0\n",
       "491       0\n",
       "492       0\n",
       "493       0\n",
       "494       0\n",
       "536       0\n",
       "496       0\n",
       "497       0\n",
       "499       0\n",
       "500       0\n",
       "501       0\n",
       "503       0\n",
       "504       0\n",
       "505       0\n",
       "507       0\n",
       "508       0\n",
       "511       0\n",
       "513       0\n",
       "510       0\n",
       "512       0\n",
       "515       0\n",
       "514       0\n",
       "516       0\n",
       "518       0\n",
       "521       0\n",
       "519       0\n",
       "520       0\n",
       "         ..\n",
       "197380    0\n",
       "197464    0\n",
       "197524    0\n",
       "197531    0\n",
       "197575    0\n",
       "197634    0\n",
       "197581    0\n",
       "197579    0\n",
       "197693    0\n",
       "197691    0\n",
       "197761    0\n",
       "197786    0\n",
       "197826    0\n",
       "197990    0\n",
       "198092    0\n",
       "198093    0\n",
       "198175    0\n",
       "198162    0\n",
       "198193    0\n",
       "198191    0\n",
       "198135    0\n",
       "198314    0\n",
       "198396    0\n",
       "198397    0\n",
       "198418    0\n",
       "198459    0\n",
       "198469    0\n",
       "198715    0\n",
       "162584    1\n",
       "189104    1\n",
       "Length: 97077, dtype: int64"
      ]
     },
     "execution_count": 18,
     "metadata": {},
     "output_type": "execute_result"
    }
   ],
   "source": [
    "data2[datedate].isnull().sum(axis=1)"
   ]
  },
  {
   "cell_type": "code",
   "execution_count": 19,
   "metadata": {
    "scrolled": false
   },
   "outputs": [
    {
     "data": {
      "text/plain": [
       "484       0\n",
       "486       0\n",
       "489       0\n",
       "490       0\n",
       "491       0\n",
       "492       0\n",
       "493       0\n",
       "494       0\n",
       "536       0\n",
       "496       0\n",
       "497       0\n",
       "499       0\n",
       "500       0\n",
       "501       0\n",
       "503       0\n",
       "504       0\n",
       "505       0\n",
       "507       0\n",
       "508       0\n",
       "511       0\n",
       "513       0\n",
       "510       0\n",
       "512       0\n",
       "515       0\n",
       "514       0\n",
       "516       0\n",
       "518       0\n",
       "521       0\n",
       "519       0\n",
       "520       0\n",
       "         ..\n",
       "197380    0\n",
       "197464    0\n",
       "197524    0\n",
       "197531    0\n",
       "197575    0\n",
       "197634    0\n",
       "197581    0\n",
       "197579    0\n",
       "197693    0\n",
       "197691    0\n",
       "197761    0\n",
       "197786    0\n",
       "197826    0\n",
       "197990    0\n",
       "198092    0\n",
       "198093    0\n",
       "198175    0\n",
       "198162    0\n",
       "198193    0\n",
       "198191    0\n",
       "198135    0\n",
       "198314    0\n",
       "198396    0\n",
       "198397    0\n",
       "198418    0\n",
       "198459    0\n",
       "198469    0\n",
       "198715    0\n",
       "162584    1\n",
       "189104    1\n",
       "Length: 97077, dtype: int64"
      ]
     },
     "execution_count": 19,
     "metadata": {},
     "output_type": "execute_result"
    }
   ],
   "source": [
    "data2[datedate].isnull().apply(np.sum,axis=1)"
   ]
  },
  {
   "cell_type": "markdown",
   "metadata": {},
   "source": [
    "## 把data2里面的第1,2,1000行日期时间列的值切出来"
   ]
  },
  {
   "cell_type": "code",
   "execution_count": 20,
   "metadata": {},
   "outputs": [
    {
     "data": {
      "text/html": [
       "<div>\n",
       "<style scoped>\n",
       "    .dataframe tbody tr th:only-of-type {\n",
       "        vertical-align: middle;\n",
       "    }\n",
       "\n",
       "    .dataframe tbody tr th {\n",
       "        vertical-align: top;\n",
       "    }\n",
       "\n",
       "    .dataframe thead th {\n",
       "        text-align: right;\n",
       "    }\n",
       "</style>\n",
       "<table border=\"1\" class=\"dataframe\">\n",
       "  <thead>\n",
       "    <tr style=\"text-align: right;\">\n",
       "      <th></th>\n",
       "      <th>Permit Number</th>\n",
       "      <th>Permit Type</th>\n",
       "      <th>Permit Type Definition</th>\n",
       "      <th>Permit Creation Date</th>\n",
       "      <th>Block</th>\n",
       "      <th>Lot</th>\n",
       "      <th>Street Number</th>\n",
       "      <th>Street Number Suffix</th>\n",
       "      <th>Street Name</th>\n",
       "      <th>Street Suffix</th>\n",
       "      <th>...</th>\n",
       "      <th>Zipcode</th>\n",
       "      <th>Location</th>\n",
       "      <th>Record ID</th>\n",
       "      <th>Permit Creation Date1</th>\n",
       "      <th>Current Status Date1</th>\n",
       "      <th>Filed Date1</th>\n",
       "      <th>Issued Date1</th>\n",
       "      <th>Completed Date1</th>\n",
       "      <th>First Construction Document Date1</th>\n",
       "      <th>Permit Expiration Date1</th>\n",
       "    </tr>\n",
       "  </thead>\n",
       "  <tbody>\n",
       "    <tr>\n",
       "      <th>484</th>\n",
       "      <td>201301027037</td>\n",
       "      <td>8</td>\n",
       "      <td>otc alterations permit</td>\n",
       "      <td>01/02/2013</td>\n",
       "      <td>0697</td>\n",
       "      <td>039</td>\n",
       "      <td>1400</td>\n",
       "      <td>NaN</td>\n",
       "      <td>Geary</td>\n",
       "      <td>Bl</td>\n",
       "      <td>...</td>\n",
       "      <td>94109.0</td>\n",
       "      <td>(37.785542417311106, -122.42713399675488)</td>\n",
       "      <td>129210879901</td>\n",
       "      <td>2013-01-02</td>\n",
       "      <td>2013-10-15</td>\n",
       "      <td>2013-01-02</td>\n",
       "      <td>2013-01-02</td>\n",
       "      <td>2013-10-15</td>\n",
       "      <td>2013-01-02</td>\n",
       "      <td>2013-12-28</td>\n",
       "    </tr>\n",
       "    <tr>\n",
       "      <th>486</th>\n",
       "      <td>201301027038</td>\n",
       "      <td>8</td>\n",
       "      <td>otc alterations permit</td>\n",
       "      <td>01/02/2013</td>\n",
       "      <td>1102</td>\n",
       "      <td>017</td>\n",
       "      <td>1247</td>\n",
       "      <td>NaN</td>\n",
       "      <td>Broderick</td>\n",
       "      <td>St</td>\n",
       "      <td>...</td>\n",
       "      <td>94115.0</td>\n",
       "      <td>(37.78188510892238, -122.4411253188458)</td>\n",
       "      <td>1292110425763</td>\n",
       "      <td>2013-01-02</td>\n",
       "      <td>2013-02-07</td>\n",
       "      <td>2013-01-02</td>\n",
       "      <td>2013-01-02</td>\n",
       "      <td>2013-02-07</td>\n",
       "      <td>2013-01-02</td>\n",
       "      <td>2013-12-28</td>\n",
       "    </tr>\n",
       "    <tr>\n",
       "      <th>489</th>\n",
       "      <td>201301027039</td>\n",
       "      <td>8</td>\n",
       "      <td>otc alterations permit</td>\n",
       "      <td>01/02/2013</td>\n",
       "      <td>1751</td>\n",
       "      <td>010</td>\n",
       "      <td>1289</td>\n",
       "      <td>NaN</td>\n",
       "      <td>02nd</td>\n",
       "      <td>Av</td>\n",
       "      <td>...</td>\n",
       "      <td>94122.0</td>\n",
       "      <td>(37.76451538602564, -122.4591117589727)</td>\n",
       "      <td>1292113396893</td>\n",
       "      <td>2013-01-02</td>\n",
       "      <td>2013-01-25</td>\n",
       "      <td>2013-01-02</td>\n",
       "      <td>2013-01-02</td>\n",
       "      <td>2013-01-25</td>\n",
       "      <td>2013-01-02</td>\n",
       "      <td>2013-12-28</td>\n",
       "    </tr>\n",
       "    <tr>\n",
       "      <th>490</th>\n",
       "      <td>201301027040</td>\n",
       "      <td>8</td>\n",
       "      <td>otc alterations permit</td>\n",
       "      <td>01/02/2013</td>\n",
       "      <td>0318</td>\n",
       "      <td>014</td>\n",
       "      <td>500</td>\n",
       "      <td>NaN</td>\n",
       "      <td>Leavenworth</td>\n",
       "      <td>St</td>\n",
       "      <td>...</td>\n",
       "      <td>94102.0</td>\n",
       "      <td>(37.785819520399485, -122.41442879309835)</td>\n",
       "      <td>129211469420</td>\n",
       "      <td>2013-01-02</td>\n",
       "      <td>2013-03-25</td>\n",
       "      <td>2013-01-02</td>\n",
       "      <td>2013-01-02</td>\n",
       "      <td>2013-03-25</td>\n",
       "      <td>2013-01-02</td>\n",
       "      <td>2013-12-28</td>\n",
       "    </tr>\n",
       "    <tr>\n",
       "      <th>491</th>\n",
       "      <td>201301027041</td>\n",
       "      <td>8</td>\n",
       "      <td>otc alterations permit</td>\n",
       "      <td>01/02/2013</td>\n",
       "      <td>0251</td>\n",
       "      <td>012</td>\n",
       "      <td>1262</td>\n",
       "      <td>NaN</td>\n",
       "      <td>Pine</td>\n",
       "      <td>St</td>\n",
       "      <td>...</td>\n",
       "      <td>94109.0</td>\n",
       "      <td>(37.79039549824972, -122.41662615110641)</td>\n",
       "      <td>1292115272018</td>\n",
       "      <td>2013-01-02</td>\n",
       "      <td>2013-10-02</td>\n",
       "      <td>2013-01-02</td>\n",
       "      <td>2013-01-02</td>\n",
       "      <td>2013-10-02</td>\n",
       "      <td>2013-01-02</td>\n",
       "      <td>2013-12-28</td>\n",
       "    </tr>\n",
       "  </tbody>\n",
       "</table>\n",
       "<p>5 rows × 50 columns</p>\n",
       "</div>"
      ],
      "text/plain": [
       "    Permit Number  Permit Type  Permit Type Definition Permit Creation Date  \\\n",
       "484  201301027037            8  otc alterations permit           01/02/2013   \n",
       "486  201301027038            8  otc alterations permit           01/02/2013   \n",
       "489  201301027039            8  otc alterations permit           01/02/2013   \n",
       "490  201301027040            8  otc alterations permit           01/02/2013   \n",
       "491  201301027041            8  otc alterations permit           01/02/2013   \n",
       "\n",
       "    Block  Lot  Street Number Street Number Suffix  Street Name Street Suffix  \\\n",
       "484  0697  039           1400                  NaN        Geary            Bl   \n",
       "486  1102  017           1247                  NaN    Broderick            St   \n",
       "489  1751  010           1289                  NaN         02nd            Av   \n",
       "490  0318  014            500                  NaN  Leavenworth            St   \n",
       "491  0251  012           1262                  NaN         Pine            St   \n",
       "\n",
       "     ...  Zipcode                                   Location      Record ID  \\\n",
       "484  ...  94109.0  (37.785542417311106, -122.42713399675488)   129210879901   \n",
       "486  ...  94115.0    (37.78188510892238, -122.4411253188458)  1292110425763   \n",
       "489  ...  94122.0    (37.76451538602564, -122.4591117589727)  1292113396893   \n",
       "490  ...  94102.0  (37.785819520399485, -122.41442879309835)   129211469420   \n",
       "491  ...  94109.0   (37.79039549824972, -122.41662615110641)  1292115272018   \n",
       "\n",
       "    Permit Creation Date1 Current Status Date1 Filed Date1 Issued Date1  \\\n",
       "484            2013-01-02           2013-10-15  2013-01-02   2013-01-02   \n",
       "486            2013-01-02           2013-02-07  2013-01-02   2013-01-02   \n",
       "489            2013-01-02           2013-01-25  2013-01-02   2013-01-02   \n",
       "490            2013-01-02           2013-03-25  2013-01-02   2013-01-02   \n",
       "491            2013-01-02           2013-10-02  2013-01-02   2013-01-02   \n",
       "\n",
       "    Completed Date1 First Construction Document Date1 Permit Expiration Date1  \n",
       "484      2013-10-15                        2013-01-02              2013-12-28  \n",
       "486      2013-02-07                        2013-01-02              2013-12-28  \n",
       "489      2013-01-25                        2013-01-02              2013-12-28  \n",
       "490      2013-03-25                        2013-01-02              2013-12-28  \n",
       "491      2013-10-02                        2013-01-02              2013-12-28  \n",
       "\n",
       "[5 rows x 50 columns]"
      ]
     },
     "execution_count": 20,
     "metadata": {},
     "output_type": "execute_result"
    }
   ],
   "source": [
    "data2.head()"
   ]
  },
  {
   "cell_type": "code",
   "execution_count": 21,
   "metadata": {},
   "outputs": [
    {
     "data": {
      "text/html": [
       "<div>\n",
       "<style scoped>\n",
       "    .dataframe tbody tr th:only-of-type {\n",
       "        vertical-align: middle;\n",
       "    }\n",
       "\n",
       "    .dataframe tbody tr th {\n",
       "        vertical-align: top;\n",
       "    }\n",
       "\n",
       "    .dataframe thead th {\n",
       "        text-align: right;\n",
       "    }\n",
       "</style>\n",
       "<table border=\"1\" class=\"dataframe\">\n",
       "  <thead>\n",
       "    <tr style=\"text-align: right;\">\n",
       "      <th></th>\n",
       "      <th>Permit Creation Date1</th>\n",
       "      <th>Current Status Date1</th>\n",
       "      <th>Filed Date1</th>\n",
       "      <th>Issued Date1</th>\n",
       "      <th>Completed Date1</th>\n",
       "      <th>First Construction Document Date1</th>\n",
       "      <th>Permit Expiration Date1</th>\n",
       "    </tr>\n",
       "  </thead>\n",
       "  <tbody>\n",
       "    <tr>\n",
       "      <th>486</th>\n",
       "      <td>2013-01-02</td>\n",
       "      <td>2013-02-07</td>\n",
       "      <td>2013-01-02</td>\n",
       "      <td>2013-01-02</td>\n",
       "      <td>2013-02-07</td>\n",
       "      <td>2013-01-02</td>\n",
       "      <td>2013-12-28</td>\n",
       "    </tr>\n",
       "    <tr>\n",
       "      <th>489</th>\n",
       "      <td>2013-01-02</td>\n",
       "      <td>2013-01-25</td>\n",
       "      <td>2013-01-02</td>\n",
       "      <td>2013-01-02</td>\n",
       "      <td>2013-01-25</td>\n",
       "      <td>2013-01-02</td>\n",
       "      <td>2013-12-28</td>\n",
       "    </tr>\n",
       "    <tr>\n",
       "      <th>2166</th>\n",
       "      <td>2013-01-22</td>\n",
       "      <td>2013-07-10</td>\n",
       "      <td>2013-01-22</td>\n",
       "      <td>2013-01-25</td>\n",
       "      <td>2013-07-10</td>\n",
       "      <td>2013-01-25</td>\n",
       "      <td>2014-01-20</td>\n",
       "    </tr>\n",
       "  </tbody>\n",
       "</table>\n",
       "</div>"
      ],
      "text/plain": [
       "     Permit Creation Date1 Current Status Date1 Filed Date1 Issued Date1  \\\n",
       "486             2013-01-02           2013-02-07  2013-01-02   2013-01-02   \n",
       "489             2013-01-02           2013-01-25  2013-01-02   2013-01-02   \n",
       "2166            2013-01-22           2013-07-10  2013-01-22   2013-01-25   \n",
       "\n",
       "     Completed Date1 First Construction Document Date1 Permit Expiration Date1  \n",
       "486       2013-02-07                        2013-01-02              2013-12-28  \n",
       "489       2013-01-25                        2013-01-02              2013-12-28  \n",
       "2166      2013-07-10                        2013-01-25              2014-01-20  "
      ]
     },
     "execution_count": 21,
     "metadata": {},
     "output_type": "execute_result"
    }
   ],
   "source": [
    "data2[datedate].iloc[[1,2,1000],:]"
   ]
  },
  {
   "cell_type": "markdown",
   "metadata": {},
   "source": [
    "根据excel说明文件的说明，许可证创建日期要晚于或者等于归档日期。\n",
    "- 几个日期的先后顺序应该是，\n",
    "归档日期--许可证创建日期--许可证签发日期--第一次施工文件日期--当前状态日期--完成日期。\n",
    "- 只有当前状态为完工的情况下，完成日期才有意义。\n",
    "- 其中归档日期、许可证创建日期、许可证签发日期这几个日期很接近。\n",
    "- 通过观察发现Permit Creation Date1和Filed Date1基本相同\n",
    "- Currents Status Date1和Completed Date1基本相同\n",
    "- Issued Date1和First Construction Document Date1基本相同"
   ]
  },
  {
   "cell_type": "markdown",
   "metadata": {},
   "source": [
    "## 查看所有日期时间变量的缺失值比例"
   ]
  },
  {
   "cell_type": "code",
   "execution_count": 22,
   "metadata": {},
   "outputs": [
    {
     "data": {
      "text/plain": [
       "Permit Creation Date1                0.000000\n",
       "Current Status Date1                 0.000000\n",
       "Filed Date1                          0.000000\n",
       "Issued Date1                         0.000185\n",
       "Completed Date1                      0.000000\n",
       "First Construction Document Date1    0.000412\n",
       "Permit Expiration Date1              0.000330\n",
       "dtype: float64"
      ]
     },
     "execution_count": 22,
     "metadata": {},
     "output_type": "execute_result"
    }
   ],
   "source": [
    "data2[datedate].isnull().mean()"
   ]
  },
  {
   "cell_type": "markdown",
   "metadata": {},
   "source": [
    "## 日期缺失值的填补"
   ]
  },
  {
   "cell_type": "markdown",
   "metadata": {},
   "source": [
    "用Permit Creation Date1插补Issued Date1的缺失值\n",
    "\n",
    "用Issued Date1插补First Construction Document Date1的缺失值\n",
    "\n",
    "直接作用于原数据框\n"
   ]
  },
  {
   "cell_type": "code",
   "execution_count": 23,
   "metadata": {},
   "outputs": [
    {
     "name": "stderr",
     "output_type": "stream",
     "text": [
      "C:\\ProgramData\\Anaconda3\\lib\\site-packages\\pandas\\core\\generic.py:6130: SettingWithCopyWarning: \n",
      "A value is trying to be set on a copy of a slice from a DataFrame\n",
      "\n",
      "See the caveats in the documentation: http://pandas.pydata.org/pandas-docs/stable/indexing.html#indexing-view-versus-copy\n",
      "  self._update_inplace(new_data)\n"
     ]
    }
   ],
   "source": [
    "data2[\"Issued Date1\"].fillna(data2[\"Permit Creation Date1\"],inplace=True)\n",
    "data2[\"First Construction Document Date1\"].fillna(data2[\"Issued Date1\"],inplace=True)"
   ]
  },
  {
   "cell_type": "markdown",
   "metadata": {},
   "source": [
    "## 查看填补之后的日期时间变量的缺失比例"
   ]
  },
  {
   "cell_type": "markdown",
   "metadata": {},
   "source": [
    "同学可以继续探索其他填补缺失的办法"
   ]
  },
  {
   "cell_type": "code",
   "execution_count": 24,
   "metadata": {},
   "outputs": [
    {
     "data": {
      "text/plain": [
       "Permit Creation Date1                0.00000\n",
       "Current Status Date1                 0.00000\n",
       "Filed Date1                          0.00000\n",
       "Issued Date1                         0.00000\n",
       "Completed Date1                      0.00000\n",
       "First Construction Document Date1    0.00000\n",
       "Permit Expiration Date1              0.00033\n",
       "dtype: float64"
      ]
     },
     "execution_count": 24,
     "metadata": {},
     "output_type": "execute_result"
    }
   ],
   "source": [
    "data2[datedate].isnull().mean()"
   ]
  },
  {
   "cell_type": "markdown",
   "metadata": {},
   "source": [
    "## 删除原来的字符串日期变量"
   ]
  },
  {
   "cell_type": "code",
   "execution_count": 25,
   "metadata": {},
   "outputs": [
    {
     "name": "stderr",
     "output_type": "stream",
     "text": [
      "C:\\ProgramData\\Anaconda3\\lib\\site-packages\\pandas\\core\\frame.py:3940: SettingWithCopyWarning: \n",
      "A value is trying to be set on a copy of a slice from a DataFrame\n",
      "\n",
      "See the caveats in the documentation: http://pandas.pydata.org/pandas-docs/stable/indexing.html#indexing-view-versus-copy\n",
      "  errors=errors)\n"
     ]
    }
   ],
   "source": [
    "data2.drop(columns=strdate,inplace=True,errors=\"ignore\")"
   ]
  },
  {
   "cell_type": "markdown",
   "metadata": {},
   "source": [
    "## 日期变量的重命名（将带有后缀1的日期时间变量名字里的后缀1去掉）"
   ]
  },
  {
   "cell_type": "code",
   "execution_count": 26,
   "metadata": {},
   "outputs": [
    {
     "name": "stderr",
     "output_type": "stream",
     "text": [
      "C:\\ProgramData\\Anaconda3\\lib\\site-packages\\pandas\\core\\frame.py:4025: SettingWithCopyWarning: \n",
      "A value is trying to be set on a copy of a slice from a DataFrame\n",
      "\n",
      "See the caveats in the documentation: http://pandas.pydata.org/pandas-docs/stable/indexing.html#indexing-view-versus-copy\n",
      "  return super(DataFrame, self).rename(**kwargs)\n"
     ]
    }
   ],
   "source": [
    "data2.rename(columns=dict(zip(datedate,strdate)),inplace=True)"
   ]
  },
  {
   "cell_type": "code",
   "execution_count": 27,
   "metadata": {},
   "outputs": [
    {
     "data": {
      "text/plain": [
       "{'Permit Creation Date1': 'Permit Creation Date',\n",
       " 'Current Status Date1': 'Current Status Date',\n",
       " 'Filed Date1': 'Filed Date',\n",
       " 'Issued Date1': 'Issued Date',\n",
       " 'Completed Date1': 'Completed Date',\n",
       " 'First Construction Document Date1': 'First Construction Document Date',\n",
       " 'Permit Expiration Date1': 'Permit Expiration Date'}"
      ]
     },
     "execution_count": 27,
     "metadata": {},
     "output_type": "execute_result"
    }
   ],
   "source": [
    "dict(list(zip(datedate,strdate)))"
   ]
  },
  {
   "cell_type": "markdown",
   "metadata": {},
   "source": [
    "## 计算日期时间差——天数"
   ]
  },
  {
   "cell_type": "markdown",
   "metadata": {},
   "source": [
    "计算变量Current Status Date与Permit Creation Date之间的天数，将这个变量命名为ddate"
   ]
  },
  {
   "cell_type": "code",
   "execution_count": 28,
   "metadata": {},
   "outputs": [
    {
     "name": "stderr",
     "output_type": "stream",
     "text": [
      "C:\\ProgramData\\Anaconda3\\lib\\site-packages\\ipykernel_launcher.py:1: SettingWithCopyWarning: \n",
      "A value is trying to be set on a copy of a slice from a DataFrame.\n",
      "Try using .loc[row_indexer,col_indexer] = value instead\n",
      "\n",
      "See the caveats in the documentation: http://pandas.pydata.org/pandas-docs/stable/indexing.html#indexing-view-versus-copy\n",
      "  \"\"\"Entry point for launching an IPython kernel.\n",
      "C:\\ProgramData\\Anaconda3\\lib\\site-packages\\ipykernel_launcher.py:2: SettingWithCopyWarning: \n",
      "A value is trying to be set on a copy of a slice from a DataFrame.\n",
      "Try using .loc[row_indexer,col_indexer] = value instead\n",
      "\n",
      "See the caveats in the documentation: http://pandas.pydata.org/pandas-docs/stable/indexing.html#indexing-view-versus-copy\n",
      "  \n"
     ]
    }
   ],
   "source": [
    "data2[\"ddate\"]=data2[\"Current Status Date\"]-data2[\"Permit Creation Date\"]\n",
    "data2[\"ddate\"]=data2[\"ddate\"].dt.days"
   ]
  },
  {
   "cell_type": "code",
   "execution_count": 29,
   "metadata": {},
   "outputs": [
    {
     "data": {
      "text/plain": [
       "484    286\n",
       "486     36\n",
       "489     23\n",
       "490     82\n",
       "491    273\n",
       "Name: ddate, dtype: int64"
      ]
     },
     "execution_count": 29,
     "metadata": {},
     "output_type": "execute_result"
    }
   ],
   "source": [
    "data2[\"ddate\"].head()"
   ]
  },
  {
   "cell_type": "markdown",
   "metadata": {},
   "source": [
    "## 将Permit Creation Date变量里面的年份调出来存为year变量"
   ]
  },
  {
   "cell_type": "code",
   "execution_count": 30,
   "metadata": {},
   "outputs": [
    {
     "name": "stderr",
     "output_type": "stream",
     "text": [
      "C:\\ProgramData\\Anaconda3\\lib\\site-packages\\ipykernel_launcher.py:1: SettingWithCopyWarning: \n",
      "A value is trying to be set on a copy of a slice from a DataFrame.\n",
      "Try using .loc[row_indexer,col_indexer] = value instead\n",
      "\n",
      "See the caveats in the documentation: http://pandas.pydata.org/pandas-docs/stable/indexing.html#indexing-view-versus-copy\n",
      "  \"\"\"Entry point for launching an IPython kernel.\n"
     ]
    }
   ],
   "source": [
    "data2[\"year\"]=data2[\"Permit Creation Date\"].dt.year"
   ]
  },
  {
   "cell_type": "markdown",
   "metadata": {},
   "source": [
    "## 将Permit Creation Date变量转化成年月格式格式，并存为ym"
   ]
  },
  {
   "cell_type": "code",
   "execution_count": 31,
   "metadata": {},
   "outputs": [
    {
     "name": "stderr",
     "output_type": "stream",
     "text": [
      "C:\\ProgramData\\Anaconda3\\lib\\site-packages\\ipykernel_launcher.py:1: SettingWithCopyWarning: \n",
      "A value is trying to be set on a copy of a slice from a DataFrame.\n",
      "Try using .loc[row_indexer,col_indexer] = value instead\n",
      "\n",
      "See the caveats in the documentation: http://pandas.pydata.org/pandas-docs/stable/indexing.html#indexing-view-versus-copy\n",
      "  \"\"\"Entry point for launching an IPython kernel.\n"
     ]
    }
   ],
   "source": [
    "data2[\"ym\"]=data2[\"Permit Creation Date\"].dt.to_period(freq=\"M\")"
   ]
  },
  {
   "cell_type": "markdown",
   "metadata": {},
   "source": [
    "## 根据year变量进行分组统计，统计有多少个观测值，返回的序列存为temp1"
   ]
  },
  {
   "cell_type": "code",
   "execution_count": 36,
   "metadata": {},
   "outputs": [
    {
     "data": {
      "text/plain": [
       "year\n",
       "2012       21\n",
       "2013    21069\n",
       "2014    21229\n",
       "2015    21665\n",
       "2016    19293\n",
       "2017    13376\n",
       "2018      424\n",
       "Name: Permit Number, dtype: int64"
      ]
     },
     "execution_count": 36,
     "metadata": {},
     "output_type": "execute_result"
    }
   ],
   "source": [
    "temp1=data2[\"Permit Number\"].groupby(data2[\"year\"]).count()\n",
    "temp1"
   ]
  },
  {
   "cell_type": "markdown",
   "metadata": {},
   "source": [
    "## 根据ym变量进行分组统计，统计有多少个观测值，返回的序列存为temp2"
   ]
  },
  {
   "cell_type": "code",
   "execution_count": 37,
   "metadata": {},
   "outputs": [
    {
     "data": {
      "text/plain": [
       "ym\n",
       "2012-03       4\n",
       "2012-09      17\n",
       "2013-01    1688\n",
       "2013-02    1494\n",
       "2013-03    1702\n",
       "2013-04    1723\n",
       "2013-05    1944\n",
       "2013-06    1722\n",
       "2013-07    1809\n",
       "2013-08    1826\n",
       "Freq: M, Name: Permit Number, dtype: int64"
      ]
     },
     "execution_count": 37,
     "metadata": {},
     "output_type": "execute_result"
    }
   ],
   "source": [
    "temp2=data2[\"Permit Number\"].groupby(data2[\"ym\"]).count()\n",
    "temp2.head(10)"
   ]
  },
  {
   "cell_type": "markdown",
   "metadata": {},
   "source": [
    "## 画折线图"
   ]
  },
  {
   "cell_type": "code",
   "execution_count": null,
   "metadata": {},
   "outputs": [],
   "source": [
    "#根据temp1画2012-2018年的折线图\n",
    "#根据temp2画2013-2015年的折线图"
   ]
  },
  {
   "cell_type": "code",
   "execution_count": 38,
   "metadata": {},
   "outputs": [
    {
     "data": {
      "text/plain": [
       "<matplotlib.axes._subplots.AxesSubplot at 0xa2f8e48>"
      ]
     },
     "execution_count": 38,
     "metadata": {},
     "output_type": "execute_result"
    },
    {
     "data": {
      "image/png": "[encoded data removed]",
      "text/plain": [
       "<Figure size 432x288 with 1 Axes>"
      ]
     },
     "metadata": {
      "needs_background": "light"
     },
     "output_type": "display_data"
    }
   ],
   "source": [
    "temp1[(temp1.index>2012) & (temp1.index<2018) ].plot()"
   ]
  },
  {
   "cell_type": "code",
   "execution_count": 39,
   "metadata": {},
   "outputs": [
    {
     "data": {
      "text/plain": [
       "<matplotlib.axes._subplots.AxesSubplot at 0x18ea1be0>"
      ]
     },
     "execution_count": 39,
     "metadata": {},
     "output_type": "execute_result"
    },
    {
     "data": {
      "image/png": "[encoded data removed]",
      "text/plain": [
       "<Figure size 432x288 with 1 Axes>"
      ]
     },
     "metadata": {
      "needs_background": "light"
     },
     "output_type": "display_data"
    }
   ],
   "source": [
    "temp2[(temp2.index>2012) & (temp2.index<2018) ].plot()"
   ]
  },
  {
   "cell_type": "code",
   "execution_count": null,
   "metadata": {},
   "outputs": [],
   "source": [
    "#可以看到数据呈现出一些季节特征。"
   ]
  },
  {
   "cell_type": "markdown",
   "metadata": {},
   "source": [
    "## 数值变量的描述统计"
   ]
  },
  {
   "cell_type": "markdown",
   "metadata": {},
   "source": [
    "数值变量有两个一个是\"Estimated Cost\"，一个是\"Revised Cost\""
   ]
  },
  {
   "cell_type": "code",
   "execution_count": null,
   "metadata": {},
   "outputs": [],
   "source": [
    "#对这两个变量进行描述性统计,并查看其0.1-0.9的分位数·"
   ]
  },
  {
   "cell_type": "code",
   "execution_count": null,
   "metadata": {},
   "outputs": [],
   "source": [
    "#对变量进行描述统计\n",
    "#可以看出数据变异比较大。"
   ]
  },
  {
   "cell_type": "code",
   "execution_count": 40,
   "metadata": {},
   "outputs": [
    {
     "data": {
      "text/html": [
       "<div>\n",
       "<style scoped>\n",
       "    .dataframe tbody tr th:only-of-type {\n",
       "        vertical-align: middle;\n",
       "    }\n",
       "\n",
       "    .dataframe tbody tr th {\n",
       "        vertical-align: top;\n",
       "    }\n",
       "\n",
       "    .dataframe thead th {\n",
       "        text-align: right;\n",
       "    }\n",
       "</style>\n",
       "<table border=\"1\" class=\"dataframe\">\n",
       "  <thead>\n",
       "    <tr style=\"text-align: right;\">\n",
       "      <th></th>\n",
       "      <th>Estimated Cost</th>\n",
       "      <th>Revised Cost</th>\n",
       "    </tr>\n",
       "  </thead>\n",
       "  <tbody>\n",
       "    <tr>\n",
       "      <th>count</th>\n",
       "      <td>9.698500e+04</td>\n",
       "      <td>9.707400e+04</td>\n",
       "    </tr>\n",
       "    <tr>\n",
       "      <th>mean</th>\n",
       "      <td>7.409378e+04</td>\n",
       "      <td>8.441542e+04</td>\n",
       "    </tr>\n",
       "    <tr>\n",
       "      <th>std</th>\n",
       "      <td>9.847948e+05</td>\n",
       "      <td>1.003713e+06</td>\n",
       "    </tr>\n",
       "    <tr>\n",
       "      <th>min</th>\n",
       "      <td>1.000000e+00</td>\n",
       "      <td>0.000000e+00</td>\n",
       "    </tr>\n",
       "    <tr>\n",
       "      <th>10%</th>\n",
       "      <td>1.000000e+00</td>\n",
       "      <td>1.000000e+00</td>\n",
       "    </tr>\n",
       "    <tr>\n",
       "      <th>20%</th>\n",
       "      <td>2.000000e+03</td>\n",
       "      <td>2.500000e+03</td>\n",
       "    </tr>\n",
       "    <tr>\n",
       "      <th>30.0%</th>\n",
       "      <td>4.800000e+03</td>\n",
       "      <td>5.000000e+03</td>\n",
       "    </tr>\n",
       "    <tr>\n",
       "      <th>40%</th>\n",
       "      <td>7.453800e+03</td>\n",
       "      <td>8.000000e+03</td>\n",
       "    </tr>\n",
       "    <tr>\n",
       "      <th>50%</th>\n",
       "      <td>1.000000e+04</td>\n",
       "      <td>1.200000e+04</td>\n",
       "    </tr>\n",
       "    <tr>\n",
       "      <th>60%</th>\n",
       "      <td>1.500000e+04</td>\n",
       "      <td>1.840000e+04</td>\n",
       "    </tr>\n",
       "    <tr>\n",
       "      <th>70%</th>\n",
       "      <td>2.400000e+04</td>\n",
       "      <td>2.810350e+04</td>\n",
       "    </tr>\n",
       "    <tr>\n",
       "      <th>80%</th>\n",
       "      <td>4.000000e+04</td>\n",
       "      <td>5.000000e+04</td>\n",
       "    </tr>\n",
       "    <tr>\n",
       "      <th>90%</th>\n",
       "      <td>8.700000e+04</td>\n",
       "      <td>1.053260e+05</td>\n",
       "    </tr>\n",
       "    <tr>\n",
       "      <th>max</th>\n",
       "      <td>1.310883e+08</td>\n",
       "      <td>1.310883e+08</td>\n",
       "    </tr>\n",
       "  </tbody>\n",
       "</table>\n",
       "</div>"
      ],
      "text/plain": [
       "       Estimated Cost  Revised Cost\n",
       "count    9.698500e+04  9.707400e+04\n",
       "mean     7.409378e+04  8.441542e+04\n",
       "std      9.847948e+05  1.003713e+06\n",
       "min      1.000000e+00  0.000000e+00\n",
       "10%      1.000000e+00  1.000000e+00\n",
       "20%      2.000000e+03  2.500000e+03\n",
       "30.0%    4.800000e+03  5.000000e+03\n",
       "40%      7.453800e+03  8.000000e+03\n",
       "50%      1.000000e+04  1.200000e+04\n",
       "60%      1.500000e+04  1.840000e+04\n",
       "70%      2.400000e+04  2.810350e+04\n",
       "80%      4.000000e+04  5.000000e+04\n",
       "90%      8.700000e+04  1.053260e+05\n",
       "max      1.310883e+08  1.310883e+08"
      ]
     },
     "execution_count": 40,
     "metadata": {},
     "output_type": "execute_result"
    }
   ],
   "source": [
    "data2[[\"Estimated Cost\",\"Revised Cost\"]].describe(percentiles=np.linspace(0.1,0.9,9))"
   ]
  },
  {
   "cell_type": "markdown",
   "metadata": {},
   "source": [
    "## 统计两个数值变量的缺失比例"
   ]
  },
  {
   "cell_type": "code",
   "execution_count": 42,
   "metadata": {},
   "outputs": [
    {
     "data": {
      "text/plain": [
       "Estimated Cost    0.000948\n",
       "Revised Cost      0.000031\n",
       "dtype: float64"
      ]
     },
     "execution_count": 42,
     "metadata": {},
     "output_type": "execute_result"
    }
   ],
   "source": [
    "#察看一下变量的缺失情况\n",
    "data2[[\"Estimated Cost\",\"Revised Cost\"]].isnull().mean()"
   ]
  },
  {
   "cell_type": "markdown",
   "metadata": {},
   "source": [
    "## 求变量Estimated Cost的0.1,0.2,0.3,0.4。。。0.9的分位数"
   ]
  },
  {
   "cell_type": "code",
   "execution_count": 43,
   "metadata": {},
   "outputs": [
    {
     "data": {
      "text/plain": [
       "count    9.698500e+04\n",
       "mean     7.409378e+04\n",
       "std      9.847948e+05\n",
       "min      1.000000e+00\n",
       "10%      1.000000e+00\n",
       "20%      2.000000e+03\n",
       "30.0%    4.800000e+03\n",
       "40%      7.453800e+03\n",
       "50%      1.000000e+04\n",
       "60%      1.500000e+04\n",
       "70%      2.400000e+04\n",
       "80%      4.000000e+04\n",
       "90%      8.700000e+04\n",
       "max      1.310883e+08\n",
       "Name: Estimated Cost, dtype: float64"
      ]
     },
     "execution_count": 43,
     "metadata": {},
     "output_type": "execute_result"
    }
   ],
   "source": [
    "#可以看到这个变量的变异比较大。\n",
    "data2[\"Estimated Cost\"].describe(percentiles=np.linspace(0.1,0.9,9))"
   ]
  },
  {
   "cell_type": "markdown",
   "metadata": {},
   "source": [
    "## 数值变量的插补"
   ]
  },
  {
   "cell_type": "markdown",
   "metadata": {},
   "source": [
    "用Revised Cost填充Estimated Cost的缺失值\n",
    "\n",
    "\n",
    "用Estimated Cost填充Revised Cost的缺失值"
   ]
  },
  {
   "cell_type": "code",
   "execution_count": 44,
   "metadata": {},
   "outputs": [
    {
     "name": "stderr",
     "output_type": "stream",
     "text": [
      "C:\\ProgramData\\Anaconda3\\lib\\site-packages\\pandas\\core\\generic.py:6130: SettingWithCopyWarning: \n",
      "A value is trying to be set on a copy of a slice from a DataFrame\n",
      "\n",
      "See the caveats in the documentation: http://pandas.pydata.org/pandas-docs/stable/indexing.html#indexing-view-versus-copy\n",
      "  self._update_inplace(new_data)\n"
     ]
    }
   ],
   "source": [
    "data2[\"Estimated Cost\"].fillna(data2[\"Revised Cost\"],inplace=True)\n",
    "data2[\"Revised Cost\"].fillna(data2[\"Estimated Cost\"],inplace=True)"
   ]
  },
  {
   "cell_type": "markdown",
   "metadata": {},
   "source": [
    "## 再次计算插补之后的两个数值变量的缺失值比例"
   ]
  },
  {
   "cell_type": "code",
   "execution_count": null,
   "metadata": {},
   "outputs": [],
   "source": [
    "#可以看到差补之后两个变量的缺失值比例都下降了。\n",
    "'''我们可以用均值和中位数方法填补缺失值，但是考虑到数据量比较大\n",
    "，我们可以不进行填补。'''"
   ]
  },
  {
   "cell_type": "code",
   "execution_count": 45,
   "metadata": {
    "scrolled": true
   },
   "outputs": [
    {
     "data": {
      "text/plain": [
       "Estimated Cost    0.000021\n",
       "Revised Cost      0.000021\n",
       "dtype: float64"
      ]
     },
     "execution_count": 45,
     "metadata": {},
     "output_type": "execute_result"
    }
   ],
   "source": [
    "data2[[\"Estimated Cost\",\"Revised Cost\"]].isnull().mean()"
   ]
  },
  {
   "cell_type": "code",
   "execution_count": 46,
   "metadata": {},
   "outputs": [],
   "source": [
    "data2[\"Revised Cost\"].fillna(data2[\"Revised Cost\"].mean(),inplace=True)"
   ]
  },
  {
   "cell_type": "markdown",
   "metadata": {},
   "source": [
    "## 按照数值变量Revised Cost对数据进行升序排序，并且直接作用于数据框data2"
   ]
  },
  {
   "cell_type": "code",
   "execution_count": 47,
   "metadata": {},
   "outputs": [
    {
     "name": "stderr",
     "output_type": "stream",
     "text": [
      "C:\\ProgramData\\Anaconda3\\lib\\site-packages\\ipykernel_launcher.py:1: SettingWithCopyWarning: \n",
      "A value is trying to be set on a copy of a slice from a DataFrame\n",
      "\n",
      "See the caveats in the documentation: http://pandas.pydata.org/pandas-docs/stable/indexing.html#indexing-view-versus-copy\n",
      "  \"\"\"Entry point for launching an IPython kernel.\n"
     ]
    }
   ],
   "source": [
    "data2.sort_values(by=\"Revised Cost\",inplace=True)"
   ]
  },
  {
   "cell_type": "markdown",
   "metadata": {},
   "source": [
    "## 数值变量的对数化处理"
   ]
  },
  {
   "cell_type": "markdown",
   "metadata": {},
   "source": [
    "将变量Revised Cost进行对数化处理之后保存为logrc变量"
   ]
  },
  {
   "cell_type": "code",
   "execution_count": 48,
   "metadata": {},
   "outputs": [
    {
     "name": "stderr",
     "output_type": "stream",
     "text": [
      "C:\\ProgramData\\Anaconda3\\lib\\site-packages\\ipykernel_launcher.py:2: SettingWithCopyWarning: \n",
      "A value is trying to be set on a copy of a slice from a DataFrame.\n",
      "Try using .loc[row_indexer,col_indexer] = value instead\n",
      "\n",
      "See the caveats in the documentation: http://pandas.pydata.org/pandas-docs/stable/indexing.html#indexing-view-versus-copy\n",
      "  \n"
     ]
    }
   ],
   "source": [
    "import math\n",
    "data2[\"logrc\"]=data2[\"Revised Cost\"].map(lambda x:math.log(x) if x>0 else np.nan)"
   ]
  },
  {
   "cell_type": "markdown",
   "metadata": {},
   "source": [
    "## 画变量logrc的直方图"
   ]
  },
  {
   "cell_type": "code",
   "execution_count": 49,
   "metadata": {},
   "outputs": [
    {
     "data": {
      "text/plain": [
       "<matplotlib.axes._subplots.AxesSubplot at 0x9df74e0>"
      ]
     },
     "execution_count": 49,
     "metadata": {},
     "output_type": "execute_result"
    },
    {
     "data": {
      "image/png": "[encoded data removed]",
      "text/plain": [
       "<Figure size 432x288 with 1 Axes>"
      ]
     },
     "metadata": {
      "needs_background": "light"
     },
     "output_type": "display_data"
    }
   ],
   "source": [
    "data2[\"logrc\"].plot.hist()"
   ]
  },
  {
   "cell_type": "markdown",
   "metadata": {},
   "source": [
    "## 对数据进行重新索引\n",
    "将data2数据框的索引变成一列，并且直接作用于原数据框"
   ]
  },
  {
   "cell_type": "code",
   "execution_count": 51,
   "metadata": {},
   "outputs": [
    {
     "data": {
      "text/html": [
       "<div>\n",
       "<style scoped>\n",
       "    .dataframe tbody tr th:only-of-type {\n",
       "        vertical-align: middle;\n",
       "    }\n",
       "\n",
       "    .dataframe tbody tr th {\n",
       "        vertical-align: top;\n",
       "    }\n",
       "\n",
       "    .dataframe thead th {\n",
       "        text-align: right;\n",
       "    }\n",
       "</style>\n",
       "<table border=\"1\" class=\"dataframe\">\n",
       "  <thead>\n",
       "    <tr style=\"text-align: right;\">\n",
       "      <th></th>\n",
       "      <th>level_0</th>\n",
       "      <th>index</th>\n",
       "      <th>Permit Number</th>\n",
       "      <th>Permit Type</th>\n",
       "      <th>Permit Type Definition</th>\n",
       "      <th>Block</th>\n",
       "      <th>Lot</th>\n",
       "      <th>Street Number</th>\n",
       "      <th>Street Number Suffix</th>\n",
       "      <th>Street Name</th>\n",
       "      <th>...</th>\n",
       "      <th>Current Status Date</th>\n",
       "      <th>Filed Date</th>\n",
       "      <th>Issued Date</th>\n",
       "      <th>Completed Date</th>\n",
       "      <th>First Construction Document Date</th>\n",
       "      <th>Permit Expiration Date</th>\n",
       "      <th>ddate</th>\n",
       "      <th>year</th>\n",
       "      <th>ym</th>\n",
       "      <th>logrc</th>\n",
       "    </tr>\n",
       "  </thead>\n",
       "  <tbody>\n",
       "    <tr>\n",
       "      <th>0</th>\n",
       "      <td>0</td>\n",
       "      <td>178091</td>\n",
       "      <td>201707172069</td>\n",
       "      <td>8</td>\n",
       "      <td>otc alterations permit</td>\n",
       "      <td>0351</td>\n",
       "      <td>001</td>\n",
       "      <td>1100</td>\n",
       "      <td>NaN</td>\n",
       "      <td>Market</td>\n",
       "      <td>...</td>\n",
       "      <td>2017-10-24</td>\n",
       "      <td>2017-07-17</td>\n",
       "      <td>2017-07-17</td>\n",
       "      <td>2017-10-24</td>\n",
       "      <td>2017-07-17</td>\n",
       "      <td>NaT</td>\n",
       "      <td>99</td>\n",
       "      <td>2017</td>\n",
       "      <td>2017-07</td>\n",
       "      <td>NaN</td>\n",
       "    </tr>\n",
       "    <tr>\n",
       "      <th>1</th>\n",
       "      <td>1</td>\n",
       "      <td>113536</td>\n",
       "      <td>201602058930</td>\n",
       "      <td>8</td>\n",
       "      <td>otc alterations permit</td>\n",
       "      <td>3785</td>\n",
       "      <td>002A</td>\n",
       "      <td>410</td>\n",
       "      <td>NaN</td>\n",
       "      <td>Townsend</td>\n",
       "      <td>...</td>\n",
       "      <td>2016-06-03</td>\n",
       "      <td>2016-02-05</td>\n",
       "      <td>2016-03-25</td>\n",
       "      <td>2016-06-03</td>\n",
       "      <td>2016-03-25</td>\n",
       "      <td>2017-03-20</td>\n",
       "      <td>119</td>\n",
       "      <td>2016</td>\n",
       "      <td>2016-02</td>\n",
       "      <td>NaN</td>\n",
       "    </tr>\n",
       "    <tr>\n",
       "      <th>2</th>\n",
       "      <td>2</td>\n",
       "      <td>125579</td>\n",
       "      <td>201605278555</td>\n",
       "      <td>8</td>\n",
       "      <td>otc alterations permit</td>\n",
       "      <td>0280</td>\n",
       "      <td>009</td>\n",
       "      <td>940</td>\n",
       "      <td>NaN</td>\n",
       "      <td>Sutter</td>\n",
       "      <td>...</td>\n",
       "      <td>2016-10-03</td>\n",
       "      <td>2016-05-27</td>\n",
       "      <td>2016-05-27</td>\n",
       "      <td>2016-10-03</td>\n",
       "      <td>2016-05-27</td>\n",
       "      <td>NaT</td>\n",
       "      <td>129</td>\n",
       "      <td>2016</td>\n",
       "      <td>2016-05</td>\n",
       "      <td>NaN</td>\n",
       "    </tr>\n",
       "    <tr>\n",
       "      <th>3</th>\n",
       "      <td>3</td>\n",
       "      <td>92932</td>\n",
       "      <td>201507222180</td>\n",
       "      <td>8</td>\n",
       "      <td>otc alterations permit</td>\n",
       "      <td>3525</td>\n",
       "      <td>002</td>\n",
       "      <td>424</td>\n",
       "      <td>NaN</td>\n",
       "      <td>09th</td>\n",
       "      <td>...</td>\n",
       "      <td>2016-03-28</td>\n",
       "      <td>2015-07-22</td>\n",
       "      <td>2015-07-22</td>\n",
       "      <td>2016-03-28</td>\n",
       "      <td>2015-07-22</td>\n",
       "      <td>NaT</td>\n",
       "      <td>250</td>\n",
       "      <td>2015</td>\n",
       "      <td>2015-07</td>\n",
       "      <td>NaN</td>\n",
       "    </tr>\n",
       "    <tr>\n",
       "      <th>4</th>\n",
       "      <td>4</td>\n",
       "      <td>99980</td>\n",
       "      <td>201509247928</td>\n",
       "      <td>8</td>\n",
       "      <td>otc alterations permit</td>\n",
       "      <td>2654</td>\n",
       "      <td>029</td>\n",
       "      <td>43</td>\n",
       "      <td>NaN</td>\n",
       "      <td>Uranus</td>\n",
       "      <td>...</td>\n",
       "      <td>2016-04-27</td>\n",
       "      <td>2015-09-24</td>\n",
       "      <td>2015-09-24</td>\n",
       "      <td>2016-04-27</td>\n",
       "      <td>2015-09-24</td>\n",
       "      <td>NaT</td>\n",
       "      <td>216</td>\n",
       "      <td>2015</td>\n",
       "      <td>2015-09</td>\n",
       "      <td>NaN</td>\n",
       "    </tr>\n",
       "  </tbody>\n",
       "</table>\n",
       "<p>5 rows × 49 columns</p>\n",
       "</div>"
      ],
      "text/plain": [
       "   level_0   index Permit Number  Permit Type  Permit Type Definition Block  \\\n",
       "0        0  178091  201707172069            8  otc alterations permit  0351   \n",
       "1        1  113536  201602058930            8  otc alterations permit  3785   \n",
       "2        2  125579  201605278555            8  otc alterations permit  0280   \n",
       "3        3   92932  201507222180            8  otc alterations permit  3525   \n",
       "4        4   99980  201509247928            8  otc alterations permit  2654   \n",
       "\n",
       "    Lot  Street Number Street Number Suffix Street Name  ...  \\\n",
       "0   001           1100                  NaN      Market  ...   \n",
       "1  002A            410                  NaN    Townsend  ...   \n",
       "2   009            940                  NaN      Sutter  ...   \n",
       "3   002            424                  NaN        09th  ...   \n",
       "4   029             43                  NaN      Uranus  ...   \n",
       "\n",
       "  Current Status Date  Filed Date Issued Date Completed Date  \\\n",
       "0          2017-10-24  2017-07-17  2017-07-17     2017-10-24   \n",
       "1          2016-06-03  2016-02-05  2016-03-25     2016-06-03   \n",
       "2          2016-10-03  2016-05-27  2016-05-27     2016-10-03   \n",
       "3          2016-03-28  2015-07-22  2015-07-22     2016-03-28   \n",
       "4          2016-04-27  2015-09-24  2015-09-24     2016-04-27   \n",
       "\n",
       "  First Construction Document Date Permit Expiration Date  ddate  year  \\\n",
       "0                       2017-07-17                    NaT     99  2017   \n",
       "1                       2016-03-25             2017-03-20    119  2016   \n",
       "2                       2016-05-27                    NaT    129  2016   \n",
       "3                       2015-07-22                    NaT    250  2015   \n",
       "4                       2015-09-24                    NaT    216  2015   \n",
       "\n",
       "        ym logrc  \n",
       "0  2017-07   NaN  \n",
       "1  2016-02   NaN  \n",
       "2  2016-05   NaN  \n",
       "3  2015-07   NaN  \n",
       "4  2015-09   NaN  \n",
       "\n",
       "[5 rows x 49 columns]"
      ]
     },
     "execution_count": 51,
     "metadata": {},
     "output_type": "execute_result"
    }
   ],
   "source": [
    "data2.reset_index(inplace=True)\n",
    "data2.head()"
   ]
  },
  {
   "cell_type": "markdown",
   "metadata": {},
   "source": [
    "## 数值变量可视化——箱线图"
   ]
  },
  {
   "cell_type": "markdown",
   "metadata": {},
   "source": [
    "Estimated Cost\n",
    "|Revised Cost\n"
   ]
  },
  {
   "cell_type": "markdown",
   "metadata": {},
   "source": [
    "### 画变量Estimated Cost和Revised Cost的箱线图"
   ]
  },
  {
   "cell_type": "code",
   "execution_count": 52,
   "metadata": {
    "collapsed": true
   },
   "outputs": [
    {
     "data": {
      "text/plain": [
       "<matplotlib.axes._subplots.AxesSubplot at 0x5fdbcf8>"
      ]
     },
     "execution_count": 52,
     "metadata": {},
     "output_type": "execute_result"
    },
    {
     "data": {
      "image/png": "[encoded data removed]",
      "text/plain": [
       "<Figure size 432x288 with 1 Axes>"
      ]
     },
     "metadata": {
      "needs_background": "light"
     },
     "output_type": "display_data"
    }
   ],
   "source": [
    "data2[\"Revised Cost\"].plot.box()"
   ]
  },
  {
   "cell_type": "code",
   "execution_count": 53,
   "metadata": {},
   "outputs": [
    {
     "data": {
      "text/plain": [
       "<matplotlib.axes._subplots.AxesSubplot at 0xbd4b7f0>"
      ]
     },
     "execution_count": 53,
     "metadata": {},
     "output_type": "execute_result"
    },
    {
     "data": {
      "image/png": "[encoded data removed]",
      "text/plain": [
       "<Figure size 432x288 with 1 Axes>"
      ]
     },
     "metadata": {
      "needs_background": "light"
     },
     "output_type": "display_data"
    }
   ],
   "source": [
    "data2[[\"Revised Cost\",'Estimated Cost']].plot.box()"
   ]
  },
  {
   "cell_type": "markdown",
   "metadata": {},
   "source": [
    "### 对Revised Cost变量进行离散化处理(用qcut分为10组)，生成离散变量costtype，其label为0-9"
   ]
  },
  {
   "cell_type": "code",
   "execution_count": 54,
   "metadata": {},
   "outputs": [
    {
     "name": "stderr",
     "output_type": "stream",
     "text": [
      "C:\\ProgramData\\Anaconda3\\lib\\site-packages\\ipykernel_launcher.py:1: SettingWithCopyWarning: \n",
      "A value is trying to be set on a copy of a slice from a DataFrame.\n",
      "Try using .loc[row_indexer,col_indexer] = value instead\n",
      "\n",
      "See the caveats in the documentation: http://pandas.pydata.org/pandas-docs/stable/indexing.html#indexing-view-versus-copy\n",
      "  \"\"\"Entry point for launching an IPython kernel.\n"
     ]
    }
   ],
   "source": [
    "data2[\"costtype\"]=pd.qcut(data2[\"Revised Cost\"],10,labels=range(10))"
   ]
  },
  {
   "cell_type": "markdown",
   "metadata": {},
   "source": [
    "### 对Revised Cost变量进行离散化处理(用qcut分为10组)，生成离散变量costtype1，其labels保持默认设置"
   ]
  },
  {
   "cell_type": "code",
   "execution_count": 55,
   "metadata": {},
   "outputs": [
    {
     "name": "stderr",
     "output_type": "stream",
     "text": [
      "C:\\ProgramData\\Anaconda3\\lib\\site-packages\\ipykernel_launcher.py:1: SettingWithCopyWarning: \n",
      "A value is trying to be set on a copy of a slice from a DataFrame.\n",
      "Try using .loc[row_indexer,col_indexer] = value instead\n",
      "\n",
      "See the caveats in the documentation: http://pandas.pydata.org/pandas-docs/stable/indexing.html#indexing-view-versus-copy\n",
      "  \"\"\"Entry point for launching an IPython kernel.\n"
     ]
    }
   ],
   "source": [
    "data2[\"costtype1\"]=pd.qcut(data2[\"Revised Cost\"],10)"
   ]
  },
  {
   "cell_type": "markdown",
   "metadata": {},
   "source": [
    "### 对costtype1进行值（value_counts）统计，并按照索引进行升序排列"
   ]
  },
  {
   "cell_type": "code",
   "execution_count": 56,
   "metadata": {},
   "outputs": [
    {
     "data": {
      "text/plain": [
       "(-0.001, 1.0]               9934\n",
       "(1.0, 2500.0]              10327\n",
       "(2500.0, 5000.0]           10572\n",
       "(5000.0, 8000.0]            8151\n",
       "(8000.0, 12000.0]          10077\n",
       "(12000.0, 18400.0]          9190\n",
       "(18400.0, 28200.0]          9705\n",
       "(28200.0, 50000.0]         11042\n",
       "(50000.0, 105416.0]         8371\n",
       "(105416.0, 131088316.0]     9708\n",
       "Name: costtype1, dtype: int64"
      ]
     },
     "execution_count": 56,
     "metadata": {},
     "output_type": "execute_result"
    }
   ],
   "source": [
    "data2[\"costtype1\"].value_counts().sort_index()"
   ]
  },
  {
   "cell_type": "markdown",
   "metadata": {},
   "source": [
    "### 用costype取值为1-7的Revised Cost画分组箱线图"
   ]
  },
  {
   "cell_type": "code",
   "execution_count": 57,
   "metadata": {},
   "outputs": [
    {
     "data": {
      "text/plain": [
       "<matplotlib.axes._subplots.AxesSubplot at 0xbd77b38>"
      ]
     },
     "execution_count": 57,
     "metadata": {},
     "output_type": "execute_result"
    },
    {
     "data": {
      "image/png": "[encoded data removed]",
      "text/plain": [
       "<Figure size 432x288 with 1 Axes>"
      ]
     },
     "metadata": {
      "needs_background": "light"
     },
     "output_type": "display_data"
    }
   ],
   "source": [
    "data2[(data2[\"costtype\"]>=1) & (data2[\"costtype\"]<=7) ].boxplot(column=[\"Revised Cost\"],by=\"costtype\")"
   ]
  },
  {
   "cell_type": "markdown",
   "metadata": {},
   "source": [
    "### 对用costype取值为8的Revised Cost画箱线图"
   ]
  },
  {
   "cell_type": "code",
   "execution_count": 58,
   "metadata": {},
   "outputs": [
    {
     "data": {
      "text/plain": [
       "<matplotlib.axes._subplots.AxesSubplot at 0xd22ee80>"
      ]
     },
     "execution_count": 58,
     "metadata": {},
     "output_type": "execute_result"
    },
    {
     "data": {
      "image/png": "[encoded data removed]",
      "text/plain": [
       "<Figure size 432x288 with 1 Axes>"
      ]
     },
     "metadata": {
      "needs_background": "light"
     },
     "output_type": "display_data"
    }
   ],
   "source": [
    "data2[data2[\"costtype\"]==8 ].boxplot(column=[\"Revised Cost\"],by=\"costtype\")"
   ]
  },
  {
   "cell_type": "markdown",
   "metadata": {},
   "source": [
    "### 对用costype取值为9的Revised Cost画箱线图"
   ]
  },
  {
   "cell_type": "code",
   "execution_count": 59,
   "metadata": {},
   "outputs": [
    {
     "data": {
      "text/plain": [
       "<matplotlib.axes._subplots.AxesSubplot at 0x5fcdb70>"
      ]
     },
     "execution_count": 59,
     "metadata": {},
     "output_type": "execute_result"
    },
    {
     "data": {
      "image/png": "[encoded data removed]",
      "text/plain": [
       "<Figure size 432x288 with 1 Axes>"
      ]
     },
     "metadata": {
      "needs_background": "light"
     },
     "output_type": "display_data"
    }
   ],
   "source": [
    "data2[data2[\"costtype\"]==9 ].boxplot(column=[\"Revised Cost\"],by=\"costtype\")"
   ]
  },
  {
   "cell_type": "markdown",
   "metadata": {},
   "source": [
    "### 对用logrc画箱线图"
   ]
  },
  {
   "cell_type": "code",
   "execution_count": 60,
   "metadata": {},
   "outputs": [
    {
     "data": {
      "text/plain": [
       "<matplotlib.axes._subplots.AxesSubplot at 0xd22eb70>"
      ]
     },
     "execution_count": 60,
     "metadata": {},
     "output_type": "execute_result"
    },
    {
     "data": {
      "image/png": "[encoded data removed]",
      "text/plain": [
       "<Figure size 432x288 with 1 Axes>"
      ]
     },
     "metadata": {
      "needs_background": "light"
     },
     "output_type": "display_data"
    }
   ],
   "source": [
    "data2.boxplot(column=[\"logrc\"])"
   ]
  },
  {
   "cell_type": "markdown",
   "metadata": {},
   "source": [
    "## 数值变量的可视化——直方图"
   ]
  },
  {
   "cell_type": "markdown",
   "metadata": {},
   "source": [
    "### 画变量Revised Cost的直方图"
   ]
  },
  {
   "cell_type": "markdown",
   "metadata": {},
   "source": [
    "可以看到由于数据比较异常，直方图的效果并不好。，我们可以对其进行对数化处理，然后再看直方图，或者分组看直方图。\n",
    "\n"
   ]
  },
  {
   "cell_type": "code",
   "execution_count": 61,
   "metadata": {
    "scrolled": false
   },
   "outputs": [
    {
     "data": {
      "text/plain": [
       "<matplotlib.axes._subplots.AxesSubplot at 0x141a8fd0>"
      ]
     },
     "execution_count": 61,
     "metadata": {},
     "output_type": "execute_result"
    },
    {
     "data": {
      "image/png": "[encoded data removed]",
      "text/plain": [
       "<Figure size 432x288 with 1 Axes>"
      ]
     },
     "metadata": {
      "needs_background": "light"
     },
     "output_type": "display_data"
    }
   ],
   "source": [
    "data2[\"Revised Cost\"].plot.hist()"
   ]
  },
  {
   "cell_type": "markdown",
   "metadata": {},
   "source": [
    "### 分组画Revised Cost变量的直方图，根据costtype进行分组"
   ]
  },
  {
   "cell_type": "code",
   "execution_count": 65,
   "metadata": {},
   "outputs": [
    {
     "data": {
      "text/plain": [
       "<matplotlib.axes._subplots.AxesSubplot at 0x14894908>"
      ]
     },
     "execution_count": 65,
     "metadata": {},
     "output_type": "execute_result"
    },
    {
     "data": {
      "image/png": "[encoded data removed]",
      "text/plain": [
       "<Figure size 432x288 with 1 Axes>"
      ]
     },
     "metadata": {
      "needs_background": "light"
     },
     "output_type": "display_data"
    }
   ],
   "source": [
    "#加上分号可以不显示一些细节的东西，只显示图形。\n",
    "data2[\"Revised Cost\"].plot.hist()"
   ]
  },
  {
   "cell_type": "markdown",
   "metadata": {},
   "source": [
    "### 画logrc变量的直方图"
   ]
  },
  {
   "cell_type": "code",
   "execution_count": 64,
   "metadata": {},
   "outputs": [
    {
     "data": {
      "text/plain": [
       "<matplotlib.axes._subplots.AxesSubplot at 0x14877cf8>"
      ]
     },
     "execution_count": 64,
     "metadata": {},
     "output_type": "execute_result"
    },
    {
     "data": {
      "image/png": "[encoded data removed]",
      "text/plain": [
       "<Figure size 432x288 with 1 Axes>"
      ]
     },
     "metadata": {
      "needs_background": "light"
     },
     "output_type": "display_data"
    }
   ],
   "source": [
    "data2[\"logrc\"].plot.hist()"
   ]
  },
  {
   "cell_type": "markdown",
   "metadata": {},
   "source": [
    "## 数值变量的可视化——散点图"
   ]
  },
  {
   "cell_type": "markdown",
   "metadata": {},
   "source": [
    "### 画Estimated Cost和Revised Cost的散点图"
   ]
  },
  {
   "cell_type": "code",
   "execution_count": 66,
   "metadata": {},
   "outputs": [
    {
     "data": {
      "text/plain": [
       "<matplotlib.collections.PathCollection at 0x1551a160>"
      ]
     },
     "execution_count": 66,
     "metadata": {},
     "output_type": "execute_result"
    },
    {
     "data": {
      "image/png": "[encoded data removed]",
      "text/plain": [
       "<Figure size 432x288 with 1 Axes>"
      ]
     },
     "metadata": {
      "needs_background": "light"
     },
     "output_type": "display_data"
    }
   ],
   "source": [
    "fig,ax=plt.subplots(1,1)\n",
    "ax.scatter(data2[\"Estimated Cost\"],data2[\"Revised Cost\"])"
   ]
  },
  {
   "cell_type": "markdown",
   "metadata": {},
   "source": [
    "## 根据经纬度数据画图"
   ]
  },
  {
   "cell_type": "markdown",
   "metadata": {},
   "source": [
    "### 统计经纬度变量Location有多少个缺失值"
   ]
  },
  {
   "cell_type": "code",
   "execution_count": 67,
   "metadata": {},
   "outputs": [
    {
     "data": {
      "text/plain": [
       "0     (37.78087635535436, -122.41245598318183)\n",
       "1     (37.77529963388492, -122.39805797627474)\n",
       "2    (37.788576330236545, -122.41592833029445)\n",
       "3    (37.772052440616974, -122.40992048613708)\n",
       "4      (37.76127549485401, -122.4452732906498)\n",
       "Name: Location, dtype: object"
      ]
     },
     "execution_count": 67,
     "metadata": {},
     "output_type": "execute_result"
    }
   ],
   "source": [
    "#经纬度变量是Location变量\n",
    "#longitude：经度\n",
    "#latitude:纬度\n",
    "data2[\"Location\"].head()"
   ]
  },
  {
   "cell_type": "markdown",
   "metadata": {},
   "source": [
    "### 把经度变量存为longitude(Location里面的第二个值),把维度变量存为latitude(Location里面的第1个值)."
   ]
  },
  {
   "cell_type": "code",
   "execution_count": 68,
   "metadata": {},
   "outputs": [],
   "source": [
    "#把经纬度数据分开\n",
    "def f1(x,i):\n",
    "    if pd.isna(x):\n",
    "        return np.nan\n",
    "    else:\n",
    "        y=eval(x)\n",
    "        return y[i]\n",
    "    "
   ]
  },
  {
   "cell_type": "code",
   "execution_count": 69,
   "metadata": {},
   "outputs": [
    {
     "name": "stderr",
     "output_type": "stream",
     "text": [
      "C:\\ProgramData\\Anaconda3\\lib\\site-packages\\ipykernel_launcher.py:1: SettingWithCopyWarning: \n",
      "A value is trying to be set on a copy of a slice from a DataFrame.\n",
      "Try using .loc[row_indexer,col_indexer] = value instead\n",
      "\n",
      "See the caveats in the documentation: http://pandas.pydata.org/pandas-docs/stable/indexing.html#indexing-view-versus-copy\n",
      "  \"\"\"Entry point for launching an IPython kernel.\n",
      "C:\\ProgramData\\Anaconda3\\lib\\site-packages\\ipykernel_launcher.py:2: SettingWithCopyWarning: \n",
      "A value is trying to be set on a copy of a slice from a DataFrame.\n",
      "Try using .loc[row_indexer,col_indexer] = value instead\n",
      "\n",
      "See the caveats in the documentation: http://pandas.pydata.org/pandas-docs/stable/indexing.html#indexing-view-versus-copy\n",
      "  \n"
     ]
    }
   ],
   "source": [
    "data2[\"latitude\"]=data2[\"Location\"].map(lambda x:f1(x,0))\n",
    "data2[\"longitude\"]=data2[\"Location\"].map(lambda x:f1(x,1))"
   ]
  },
  {
   "cell_type": "markdown",
   "metadata": {},
   "source": [
    "### 求变量longitude和latitude的最小值和最大值"
   ]
  },
  {
   "cell_type": "code",
   "execution_count": null,
   "metadata": {},
   "outputs": [],
   "source": [
    "\n",
    "#可以看到经度取值范围在"
   ]
  },
  {
   "cell_type": "code",
   "execution_count": null,
   "metadata": {},
   "outputs": [],
   "source": [
    "data2[[\"longitude\",\"latitude\"]].describe()"
   ]
  },
  {
   "cell_type": "code",
   "execution_count": null,
   "metadata": {},
   "outputs": [],
   "source": [
    "#接下来开始画图"
   ]
  },
  {
   "cell_type": "markdown",
   "metadata": {},
   "source": [
    "drawcoastlines',\n",
    " 'drawcounties',\n",
    " 'drawcountries',\n",
    " 'drawgreatcircle',\n",
    " 'drawlsmask',\n",
    " 'drawmapboundary',\n",
    " 'drawmapscale',\n",
    " 'drawmeridians',\n",
    " 'drawparallels',\n",
    " 'drawrivers',\n",
    " 'drawstates',"
   ]
  },
  {
   "cell_type": "markdown",
   "metadata": {},
   "source": [
    "### 画一个散点图，横轴为longtide,纵轴为latitude,colormap设定为“Reds”,用变量Revised Cost设定颜色，并在图上加入colorbar"
   ]
  },
  {
   "cell_type": "code",
   "execution_count": null,
   "metadata": {},
   "outputs": [],
   "source": [
    "fig,ax=plt.subplots(1,1)\n",
    "temp=ax.scatter(data2[\"longitude\"],data2[\"latitude\"],c=data2[\"Revised Cost\"],cmap=\"Reds\",s=1)\n",
    "fig.colorbar(temp,ax=ax)"
   ]
  },
  {
   "cell_type": "markdown",
   "metadata": {},
   "source": [
    "## 地址变量的处理"
   ]
  },
  {
   "cell_type": "code",
   "execution_count": null,
   "metadata": {},
   "outputs": [],
   "source": [
    "data2.head()"
   ]
  },
  {
   "cell_type": "markdown",
   "metadata": {},
   "source": [
    "关于地址的字段有\n",
    "Block：栋、\n",
    "Lot：地段、\n",
    "Street Number：街牌号码、\n",
    "Street Number Suffix：街道号码后缀、\n",
    "Street Name：街道名称、\n",
    "Street Name Suffix：街道名称后缀、\n",
    "Unit：单元、\n",
    "Unit suffix：单元后缀。\n",
    "首先看一下这些变量的缺失值情况\n",
    "\n"
   ]
  },
  {
   "cell_type": "code",
   "execution_count": null,
   "metadata": {},
   "outputs": [],
   "source": [
    "addresslist=[\"Block\",\"Lot\",\n",
    "             \"Street Number\",\"Street Number Suffix\",\n",
    "            \"Street Name\",\"Street Suffix\",\n",
    "            \"Unit\",\"Unit Suffix\"]"
   ]
  },
  {
   "cell_type": "markdown",
   "metadata": {},
   "source": [
    "### 统计各个地址变量的缺失值比例"
   ]
  },
  {
   "cell_type": "code",
   "execution_count": null,
   "metadata": {},
   "outputs": [],
   "source": [
    "\n",
    "#可以看到两个后缀变量的缺失值都比较大，我们可以把这两个变量删掉。"
   ]
  },
  {
   "cell_type": "code",
   "execution_count": null,
   "metadata": {},
   "outputs": [],
   "source": [
    "data2[addresslist].isnull().mean()"
   ]
  },
  {
   "cell_type": "markdown",
   "metadata": {},
   "source": [
    "### 一些地址变量的删除\n",
    "删除变量Street Number Suffix\",\"Unit\",\"Unit Suffix，将需要删除的变量名字，存为一个列表为addressdroplist"
   ]
  },
  {
   "cell_type": "code",
   "execution_count": null,
   "metadata": {},
   "outputs": [],
   "source": [
    "addressdroplist=[\"Street Number Suffix\",\"Unit\",\"Unit Suffix\"]\n",
    "data2.drop(columns=addressdroplist,inplace=True,errors=\"ignore\")"
   ]
  },
  {
   "cell_type": "markdown",
   "metadata": {},
   "source": [
    "### 从addresslist中将addressdroplist里面的变量去掉，并统计addresslist列表里面的变量的缺失值比例"
   ]
  },
  {
   "cell_type": "code",
   "execution_count": null,
   "metadata": {},
   "outputs": [],
   "source": [
    "addresslist=list(set(addresslist)-set(addressdroplist))"
   ]
  },
  {
   "cell_type": "code",
   "execution_count": null,
   "metadata": {},
   "outputs": [],
   "source": [
    "data2[addresslist].isnull().mean()"
   ]
  },
  {
   "cell_type": "markdown",
   "metadata": {},
   "source": [
    "### 地址变量的连接"
   ]
  },
  {
   "cell_type": "markdown",
   "metadata": {},
   "source": [
    "根据地址变量Street Number，Street Suffix，Street Name生成新的变量address"
   ]
  },
  {
   "cell_type": "markdown",
   "metadata": {},
   "source": [
    "分两种情况，\n",
    "- 如果Street Suffix不缺失则address=Street Number+Street Suffix+Street Name\n",
    "\n",
    "- 如果Street Suffix缺失则address=Street Number+Street Name"
   ]
  },
  {
   "cell_type": "code",
   "execution_count": null,
   "metadata": {},
   "outputs": [],
   "source": [
    "def f1(x):\n",
    "    if pd.isna(x[\"Street Suffix\"]):\n",
    "        return x[\"Street Number\"]+x[\"Street Name\"]\n",
    "    else:\n",
    "        return x[\"Street Number\"]+x[\"Street Suffix\"]+x[\"Street Name\"]\n",
    "    \n",
    "data2.apply(lambda x:f1(x),axis=1)"
   ]
  },
  {
   "cell_type": "code",
   "execution_count": null,
   "metadata": {},
   "outputs": [],
   "source": []
  }
 ],
 "metadata": {
  "kernelspec": {
   "display_name": "Python 3",
   "language": "python",
   "name": "python3"
  },
  "language_info": {
   "codemirror_mode": {
    "name": "ipython",
    "version": 3
   },
   "file_extension": ".py",
   "mimetype": "text/x-python",
   "name": "python",
   "nbconvert_exporter": "python",
   "pygments_lexer": "ipython3",
   "version": "3.7.3"
  },
  "toc": {
   "base_numbering": 1,
   "nav_menu": {},
   "number_sections": true,
   "sideBar": true,
   "skip_h1_title": false,
   "title_cell": "Table of Contents",
   "title_sidebar": "Contents",
   "toc_cell": false,
   "toc_position": {
    "height": "calc(100% - 180px)",
    "left": "10px",
    "top": "150px",
    "width": "180.661px"
   },
   "toc_section_display": true,
   "toc_window_display": true
  }
 },
 "nbformat": 4,
 "nbformat_minor": 2
}
